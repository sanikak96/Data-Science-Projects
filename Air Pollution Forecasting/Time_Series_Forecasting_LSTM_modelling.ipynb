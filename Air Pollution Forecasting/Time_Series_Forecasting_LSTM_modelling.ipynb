{
 "cells": [
  {
   "cell_type": "markdown",
   "id": "a0f992ff-a3f6-4a51-af87-194b30224b57",
   "metadata": {},
   "source": [
    "# Air Pollution Forecasting using LSTM"
   ]
  },
  {
   "cell_type": "markdown",
   "id": "5f634aff-eec5-47c4-8abd-772db9a184f3",
   "metadata": {},
   "source": [
    "## What is LSTM?\n",
    "- Long Short Term Memory Network is an advanced RNN, a sequential network, that allows information to persist. It is capable of handling the vanishing gradient problem faced by RNN.\n",
    "- Unlike the Feedforward network, the LSTM has the feedback connections.\n",
    "- Therefore, it not only can process single data points, but also the sequence of data at a time.\n",
    "- They have internal mechanisms called gates that can regulate the flow of information.\n",
    "- Or in other words, the prediction of nth sample in a sequence of test samples can be influenced by an input that was given many time steps before.\n",
    "- Four key components of LSTM includes-\n",
    "    - Forget gate: Decides what is relevant to keep from prior steps\n",
    "    - Input gate: Decides what information is relevant to add from the current step\n",
    "    - Output gate: Determines what the next hidden state should be\n",
    "    - Cell State: Transport highway that transfers relative information all the way down the sequence chain\n",
    "- Gates have sigmoid function that squashes the values between 0 and 1, that is helpful to update or forget data because any number getting multiplied by 0 is 0, causing values to disappears or be \"forgotten\". Any number multiplied by 1 is the same value therefore that value stay’s the same or is \"kept\"\n"
   ]
  },
  {
   "cell_type": "code",
   "execution_count": null,
   "id": "8a7128e3-6f73-490a-aeda-7603371a1397",
   "metadata": {},
   "outputs": [],
   "source": [
    "from IPython.display import Image\n",
    "Image(url=\"Images/LSTM.png\", width=500, height=100)"
   ]
  },
  {
   "cell_type": "markdown",
   "id": "151b987a-def7-472a-9eab-098440ac198e",
   "metadata": {},
   "source": [
    "## Why LSTM?\n",
    "- Improved method for back propagating the error.\n",
    "- Maintains information in memory for long periods of time.\n",
    "- Has the capability to learn more parameters/Features.\n",
    "- Can be used in complex domains like Machine Translation, Time Series Forecasting, Speech Recognition\n",
    "- Provides greater accuracy for demand forecasters which results in better decision making for the business."
   ]
  },
  {
   "cell_type": "markdown",
   "id": "6e0444f6-ab74-4149-be9c-ec69a8ad771f",
   "metadata": {},
   "source": [
    "## Steps to perform for building an LSTM model:\n",
    "- 1. Importing the Required Libraries\n",
    "- 2. Basic Summary Statistics\n",
    "- 3. Modelling\n",
    "- 4. Prediction using the trained model\n",
    "- 5. Evaluation"
   ]
  },
  {
   "cell_type": "markdown",
   "id": "bc1d9e75-94e9-41d5-816f-a3865198bae3",
   "metadata": {},
   "source": [
    "## Prerequisites:\n",
    "- The data is obtained from the given **[link](https://www.kaggle.com/datasets/rupakroy/lstm-datasets-multivariate-univariate/code)**\n",
    "- The CSV obtained from the preprocessing and EDA analysis has to kept under the data folder."
   ]
  },
  {
   "cell_type": "markdown",
   "id": "4f19ddf4-af76-4516-a39b-fdecefef601d",
   "metadata": {},
   "source": [
    "### 1. Importing the Libraries"
   ]
  },
  {
   "cell_type": "code",
   "execution_count": null,
   "id": "d857a59e-122d-4444-bce3-6cf3a39dcb61",
   "metadata": {},
   "outputs": [],
   "source": [
    "# Libraries for reading the data and preprocessing\n",
    "import pandas as pd\n",
    "import numpy as np\n",
    "import matplotlib.pyplot as plt\n",
    "\n",
    "# Deep Learning Libraries\n",
    "import tensorflow as tf\n",
    "import warnings\n",
    "\n",
    "from sklearn.preprocessing import MinMaxScaler\n",
    "warnings.filterwarnings(\"ignore\")"
   ]
  },
  {
   "cell_type": "code",
   "execution_count": null,
   "id": "1e75d1cf-fda0-426f-84cd-3d2ae57e199c",
   "metadata": {},
   "outputs": [],
   "source": [
    "#Installing Jupyter Black for PEP8 standards\n",
    "import jupyter_black\n",
    "jupyter_black.load()"
   ]
  },
  {
   "cell_type": "code",
   "execution_count": null,
   "id": "de642cc8-80a7-4cdb-a64e-7f4261f9ed26",
   "metadata": {
    "tags": []
   },
   "outputs": [],
   "source": [
    "# Reading the Air quality dataset recieved from EDA analysis\n",
    "air_quality_data = pd.read_csv(\"data/air_quality_data.csv\")\n",
    "air_quality_data"
   ]
  },
  {
   "cell_type": "markdown",
   "id": "e2d45adf-4ad1-43a3-a903-cd327e5aaf16",
   "metadata": {},
   "source": [
    "### 2. Basic Summary Statistics"
   ]
  },
  {
   "cell_type": "code",
   "execution_count": null,
   "id": "3476a301-7768-4d6d-a902-d2c8cedfe7d6",
   "metadata": {},
   "outputs": [],
   "source": [
    "air_quality_data.shape"
   ]
  },
  {
   "cell_type": "code",
   "execution_count": null,
   "id": "575ee6f4-98c2-4214-92ba-e5d6cf1181a5",
   "metadata": {},
   "outputs": [],
   "source": [
    "# Converting the date column into datetime type\n",
    "air_quality_data[\"date\"] = pd.to_datetime(\n",
    "    air_quality_data.date, infer_datetime_format=\"True\"\n",
    ")\n",
    "air_quality_data.dtypes"
   ]
  },
  {
   "cell_type": "code",
   "execution_count": null,
   "id": "50a785e2-0c05-473e-aa10-9e508a972e29",
   "metadata": {},
   "outputs": [],
   "source": [
    "# Setting the date as the index for the dataframe\n",
    "air_quality_data.set_index(\"date\", inplace=True)\n",
    "air_quality_data.head()"
   ]
  },
  {
   "cell_type": "markdown",
   "id": "1e4fbe82-4ad7-43ce-8c49-7daff495ada7",
   "metadata": {},
   "source": [
    "### 3.Modelling"
   ]
  },
  {
   "cell_type": "code",
   "execution_count": null,
   "id": "681cb340-11ed-4273-9f55-0f3e80d7604e",
   "metadata": {},
   "outputs": [],
   "source": [
    "# for the evaluation\n",
    "from sklearn import metrics\n",
    "from sklearn.preprocessing import LabelEncoder, MinMaxScaler\n",
    "import tensorflow as tf\n",
    "\n",
    "air_quality_data.columns"
   ]
  },
  {
   "cell_type": "code",
   "execution_count": null,
   "id": "429998f6-4454-4aa5-8e40-04e3c2e48802",
   "metadata": {},
   "outputs": [],
   "source": [
    "# Splitting the dataframe into training and Testing\n",
    "split_date = pd.datetime(2014, 12, 31)\n",
    "train = air_quality_data.loc[air_quality_data.index < split_date]\n",
    "test = air_quality_data.loc[air_quality_data.index >= split_date]"
   ]
  },
  {
   "cell_type": "code",
   "execution_count": null,
   "id": "13c249d1-0429-4795-a1d7-742fe87ec08c",
   "metadata": {},
   "outputs": [],
   "source": [
    "# Using the MinMaxScaler for scaling the data of all columns\n",
    "scaler = MinMaxScaler(feature_range=(0, 1))\n",
    "scaled_train = scaler.fit_transform(train)\n",
    "scaled_test = scaler.transform(test)"
   ]
  },
  {
   "cell_type": "code",
   "execution_count": null,
   "id": "cf7d73e4-491c-4054-8336-2068a019a537",
   "metadata": {},
   "outputs": [],
   "source": [
    "# Splitting the training and testing data into features and classes\n",
    "x_train = scaled_train[:, 1:]\n",
    "y_train = scaled_train[:, 0]\n",
    "x_test = scaled_test[:, 1:]\n",
    "y_test = scaled_test[:, 0]"
   ]
  },
  {
   "cell_type": "code",
   "execution_count": null,
   "id": "5521d61a-3210-43f5-9c70-f305fc59d947",
   "metadata": {},
   "outputs": [],
   "source": [
    "# Reshaping the data by considering the window size =1, i.e as one step ahead(Lag = 1)\n",
    "x_train = x_train.reshape((x_train.shape[0], 1, x_train.shape[1]))\n",
    "x_test = x_test.reshape((x_test.shape[0], 1, x_test.shape[1]))"
   ]
  },
  {
   "cell_type": "code",
   "execution_count": null,
   "id": "0654c84c-e25f-483e-807a-c5a6329dd734",
   "metadata": {},
   "outputs": [],
   "source": [
    "# Building the Keras Model using LSTm and dropout layers\n",
    "from keras.models import Sequential\n",
    "from keras.layers import Dense, Dropout, LSTM\n",
    "from keras.utils.vis_utils import plot_model\n",
    "\n",
    "deep_lstm_model = Sequential()\n",
    "deep_lstm_model.add(\n",
    "    LSTM(128, return_sequences=True, input_shape=(x_train.shape[1], x_train.shape[2]))\n",
    ")\n",
    "# Adding a Droput layer to ensure the model does not overfit\n",
    "deep_lstm_model.add(Dropout(0.2))\n",
    "deep_lstm_model.add(\n",
    "    LSTM(64, return_sequences=True, input_shape=(x_train.shape[1], x_train.shape[2]))\n",
    ")\n",
    "deep_lstm_model.add(Dropout(0.2))\n",
    "deep_lstm_model.add(\n",
    "    LSTM(32, return_sequences=True, input_shape=(x_train.shape[1], x_train.shape[2]))\n",
    ")\n",
    "deep_lstm_model.add(Dropout(0.2))\n",
    "deep_lstm_model.add(Dense(x_train.shape[1]))\n",
    "# Metrics for loss is MAE\n",
    "deep_lstm_model.compile(optimizer=\"adam\", loss=\"mae\")\n",
    "deep_lstm_model.summary()"
   ]
  },
  {
   "cell_type": "code",
   "execution_count": null,
   "id": "b5ec162a-7f08-4b4c-b33d-1f1130054b62",
   "metadata": {},
   "outputs": [],
   "source": [
    "from IPython.display import Image\n",
    "\n",
    "Image(url=\"Images/LSTM_Model.png.jpg\", width=200, height=100)"
   ]
  },
  {
   "cell_type": "code",
   "execution_count": null,
   "id": "10d917c4-bbac-44b9-8380-3feeb76115ed",
   "metadata": {},
   "outputs": [],
   "source": [
    "# Fitting the LSTM model for epochs = 50 and batch size=5\n",
    "history = deep_lstm_model.fit(\n",
    "    x_train,\n",
    "    y_train,\n",
    "    epochs=50,\n",
    "    batch_size=5,\n",
    "    validation_split=0.2,\n",
    "    verbose=2,\n",
    "    shuffle=False,\n",
    ")"
   ]
  },
  {
   "cell_type": "code",
   "execution_count": null,
   "id": "b11ba9fe-a61d-4780-9e05-ba22158bca85",
   "metadata": {},
   "outputs": [],
   "source": [
    "# Saving the LSTM model for Future predictions\n",
    "deep_lstm_model.save(\"Models/Time_Series_Forecasting_LSTM_model.h5\")"
   ]
  },
  {
   "cell_type": "code",
   "execution_count": null,
   "id": "3518958c-c7fc-4847-8f98-c828d8f8b71c",
   "metadata": {},
   "outputs": [],
   "source": [
    "# Plotting the Training and Validation loss of the trained model.\n",
    "plt.plot(history.history[\"loss\"], label=\"Training loss\")\n",
    "plt.plot(history.history[\"val_loss\"], label=\"Validation loss\")\n",
    "plt.legend();"
   ]
  },
  {
   "cell_type": "markdown",
   "id": "a4ca6232-20b8-40da-867a-1d8e74e1829c",
   "metadata": {},
   "source": [
    "### 4. Prediction using the Trained Model"
   ]
  },
  {
   "cell_type": "code",
   "execution_count": null,
   "id": "ef76a0e9-75c3-481c-a798-0e71660c573a",
   "metadata": {},
   "outputs": [],
   "source": [
    "# Predicting the PM2.5 concentration for the next 24 hours using the trained model\n",
    "import keras\n",
    "import keras.utils\n",
    "from keras import utils as np_utils\n",
    "\n",
    "# Loading the trained model for prediction\n",
    "reconstructed_LSTM_Model = keras.models.load_model(\n",
    "    \"Models/Time_Series_Forecasting_LSTM_model.h5\"\n",
    ")\n",
    "y_pred = reconstructed_LSTM_Model.predict(x_test)"
   ]
  },
  {
   "cell_type": "code",
   "execution_count": null,
   "id": "41cf4c05-2575-4b50-8deb-f9eec3f65d01",
   "metadata": {
    "tags": []
   },
   "outputs": [],
   "source": [
    "# Reshaping the Testing dataset so as to prepare it for Inverse transformation\n",
    "x_test = x_test.reshape((x_test.shape[0], 1 * 18))\n",
    "y_pred1 = y_pred.reshape((y_pred.shape[0], 1 * 1))"
   ]
  },
  {
   "cell_type": "code",
   "execution_count": null,
   "id": "cdd19c39-3086-4c09-89d0-133d87f6de41",
   "metadata": {},
   "outputs": [],
   "source": [
    "from math import sqrt\n",
    "from numpy import concatenate\n",
    "\n",
    "inv_yhat = concatenate((y_pred1, x_test[:, -18:]), axis=1)\n",
    "inv_yhat[0][0].reshape(1, -1)\n",
    "# Inverse transforming using the scaler used for Training the model\n",
    "inv_yhat_final = scaler.inverse_transform(inv_yhat)"
   ]
  },
  {
   "cell_type": "code",
   "execution_count": null,
   "id": "835bb42e-13c9-4a29-9d45-8311f0e13202",
   "metadata": {},
   "outputs": [],
   "source": [
    "list1_pred = []\n",
    "for i in range(len(inv_yhat_final)):\n",
    "    num = inv_yhat_final[i][0]\n",
    "    list1_pred.append(float(round(num)))"
   ]
  },
  {
   "cell_type": "code",
   "execution_count": null,
   "id": "1c74ea8a-2dc4-41e2-90c6-6fb47aeb29f4",
   "metadata": {},
   "outputs": [],
   "source": [
    "test1_no_index = test.reset_index()\n",
    "list1_actual = test1_no_index[\"pollution\"]\n",
    "list1_actual = list1_actual.tolist()"
   ]
  },
  {
   "cell_type": "code",
   "execution_count": null,
   "id": "fbe6fa4d-05c5-4677-9e5d-cca2d03959c0",
   "metadata": {},
   "outputs": [],
   "source": [
    "# Building a dataframe to depict the actual and the forecasted pollution for the next 24 hours\n",
    "df_final = pd.DataFrame(\n",
    "    {\"Forecasted Pollution\": list1_pred, \"Actual Pollution\": list1_actual}\n",
    ")\n",
    "df_final"
   ]
  },
  {
   "cell_type": "code",
   "execution_count": null,
   "id": "c9fcfee4-eece-4d8d-996e-f621ddeb1645",
   "metadata": {},
   "outputs": [],
   "source": [
    "# Building a graph to visualize the actual and the predicted pollution level for the next 24 hours\n",
    "plt.figure(figsize=(10, 6))\n",
    "plt.plot(\n",
    "    df_final[\"Forecasted Pollution\"],\n",
    "    color=\"Darkblue\",\n",
    "    label=\"Predicted Pollution level\",\n",
    ")\n",
    "plt.plot(df_final[\"Actual Pollution\"], color=\"green\", label=\"Actual Pollution level\")\n",
    "plt.title(\"Air Pollution Prediction (Multivariate)\")\n",
    "plt.xlabel(\"Hours\")\n",
    "plt.ylabel(\"Pollution level\")\n",
    "plt.legend()\n",
    "plt.show()\n",
    "plt.savefig(\"graph.png\")"
   ]
  },
  {
   "cell_type": "markdown",
   "id": "8dde5e6a-4da5-456b-9869-f6c3ce7b77a1",
   "metadata": {},
   "source": [
    "### 5. Evaluation"
   ]
  },
  {
   "cell_type": "code",
   "execution_count": null,
   "id": "c51febc8-8f24-412f-9628-995000ec1ceb",
   "metadata": {},
   "outputs": [],
   "source": [
    "# Function to retrieve the Mean Squared Error, Root Mean Squared Error and the Mean Absolute Error\n",
    "def diagnostics(y_pred, y_valid):\n",
    "    mse = np.mean(np.square(y_pred - y_valid))\n",
    "    print(\"The MSE is: \", mse)\n",
    "    rmse = np.sqrt(mse)\n",
    "    print(\"The RMSE is: \", rmse)\n",
    "    mae = np.mean(np.abs(y_pred - y_valid))\n",
    "    print(\"The MAE is: \", mae)"
   ]
  },
  {
   "cell_type": "code",
   "execution_count": null,
   "id": "2f520488-db26-4b21-9e36-8643c70d67b4",
   "metadata": {},
   "outputs": [],
   "source": [
    "diagnostics(df_final[\"Forecasted Pollution\"], df_final[\"Actual Pollution\"])"
   ]
  },
  {
   "cell_type": "code",
   "execution_count": null,
   "id": "28cc3fad-c1b7-42ae-8125-d4087a03dd62",
   "metadata": {},
   "outputs": [],
   "source": [
    "# Printing the Overall actual mean of the pollution(PM 2.5 concentration) for the test data\n",
    "test.pollution.mean()"
   ]
  },
  {
   "cell_type": "code",
   "execution_count": null,
   "id": "88233323-256b-4954-9859-638361fa9190",
   "metadata": {},
   "outputs": [],
   "source": [
    "# Printing the Overall forecasted mean of the pollution(PM 2.5 concentration) for the test data\n",
    "df_final[\"Forecasted Pollution\"].mean()"
   ]
  },
  {
   "cell_type": "markdown",
   "id": "2a41a9e4-047b-4cb8-a14f-37f74c63b150",
   "metadata": {},
   "source": [
    "## Observations/Insights:\n",
    "- The forecasted PM2.5 concentration(pollution levels) is almost closer to the actual values.\n",
    "- When considered independently for hours, the predictions are much good.\n",
    "- The built model has learnt the trend across the hours perfectly and can be used to predict for any future hours.\n",
    "- The overall mean of the forecast and the actual are closer.\n",
    "- Therefore, LSTM can be considered as a model for forecasting the time series data."
   ]
  }
 ],
 "metadata": {
  "kernelspec": {
   "display_name": "Python 3 (ipykernel)",
   "language": "python",
   "name": "python3"
  },
  "language_info": {
   "codemirror_mode": {
    "name": "ipython",
    "version": 3
   },
   "file_extension": ".py",
   "mimetype": "text/x-python",
   "name": "python",
   "nbconvert_exporter": "python",
   "pygments_lexer": "ipython3",
   "version": "3.9.12"
  }
 },
 "nbformat": 4,
 "nbformat_minor": 5
}
