{
  "cells": [
    {
      "cell_type": "markdown",
      "metadata": {
        "id": "view-in-github",
        "colab_type": "text"
      },
      "source": [
        "<a href=\"https://colab.research.google.com/github/sanikak96/Data-Science-Projects/blob/master/CNNMusicGenreClassificationAugmented.ipynb\" target=\"_parent\"><img src=\"https://colab.research.google.com/assets/colab-badge.svg\" alt=\"Open In Colab\"/></a>"
      ]
    },
    {
      "cell_type": "markdown",
      "metadata": {
        "id": "15hLX9lA1Q6r"
      },
      "source": [
        "# Experiment 2: Music Genre Classification using Mel Spectrograms - Augmented Data\n",
        "\n",
        "A spectrogram is a visualization of the frequency spectrum of a signal, where the frequency spectrum of a signal is the frequency range that is contained by the signal. A mel spectrogram is a spectrogram converted to the mel scale.\n",
        "Since humans do not perceive sound linearly, mel scale is used to make the inputs to the neurons more natural.The Mel Scale is a logarithmic transformation of a signal’s frequency.\n",
        "\n",
        "Mel spectrograms have been used as inputs since a long time. [Choi et al. (2016)](https://arxiv.org/abs/1606.00298) show that mel spectrograms are superior to the other features used while audio classification like STFT and MFCCs.\n",
        "\n",
        "I am going to experiment using Mel spectograms for music genre classification.\n",
        "\n",
        "After using CNN on the 999 spectrograms of the original dataset, the CNN performs just a little better than 50%. This is not a very good accuracy. In order to improve it, I am going to run the same model on augmented data."
      ]
    },
    {
      "cell_type": "markdown",
      "metadata": {
        "id": "687zhvv51x4T"
      },
      "source": [
        "### Importing Libraries"
      ]
    },
    {
      "cell_type": "code",
      "execution_count": 1,
      "metadata": {
        "colab": {
          "base_uri": "https://localhost:8080/"
        },
        "id": "lkeACFwlNKfP",
        "outputId": "72676c40-21a9-4436-8ff1-187f8423f47d"
      },
      "outputs": [
        {
          "output_type": "stream",
          "name": "stdout",
          "text": [
            "Collecting pydub\n",
            "  Downloading pydub-0.25.1-py2.py3-none-any.whl (32 kB)\n",
            "Installing collected packages: pydub\n",
            "Successfully installed pydub-0.25.1\n"
          ]
        }
      ],
      "source": [
        "! pip install pydub\n",
        "\n",
        "#Importing libraries for Audio Preprocessing \n",
        "import librosa \n",
        "import librosa.display\n",
        "import skimage\n",
        "import numpy as np\n",
        "import pandas as pd\n",
        "import imageio\n",
        "import json\n",
        "import IPython.display as ipd\n",
        "from PIL import Image\n",
        "import os\n",
        "import matplotlib.pyplot as plt\n",
        "import glob\n",
        "from matplotlib.backends.backend_agg import FigureCanvasAgg as FigureCanvas\n",
        "from pydub import AudioSegment\n",
        "import shutil\n",
        "\n",
        "#Importing modules needed for modeling\n",
        "import tensorflow as tf\n",
        "from tensorflow.python import eager #To get the number of gpus\n",
        "from tensorflow.python.client import device_lib \n",
        "from sklearn.model_selection import train_test_split\n",
        "from keras import layers\n",
        "from keras.layers import Input, Add, Dense, Activation, BatchNormalization, Flatten, Conv2D, MaxPooling2D, Dropout\n",
        "from keras.models import Model, load_model\n",
        "\n",
        "from keras.preprocessing import image\n",
        "from keras.utils import layer_utils\n",
        "from keras.utils.data_utils import get_file\n",
        "from keras.applications.imagenet_utils import preprocess_input\n",
        "import pydot\n",
        "from IPython.display import SVG\n",
        "from keras.utils.vis_utils import model_to_dot,plot_model\n",
        "#from keras.optimizers import adam_v2\n",
        "from keras.initializers import glorot_uniform\n",
        "from keras.preprocessing.image import ImageDataGenerator\n",
        "import random"
      ]
    },
    {
      "cell_type": "markdown",
      "metadata": {
        "id": "6xcA3X4d11Yl"
      },
      "source": [
        "### Mounting google drive\n",
        "Note: The paths can be modified by importing kaggle API key and downloading the data. However, since creating and storing spectrograms of augmented data would take a long time, I am going to store them on my drive and use them from there for training the CNN model defined in experiment 1."
      ]
    },
    {
      "cell_type": "code",
      "execution_count": 2,
      "metadata": {
        "colab": {
          "base_uri": "https://localhost:8080/"
        },
        "id": "wnFqM5qdbrvl",
        "outputId": "29abd651-2b91-4753-ad1a-7bcff7b0929e"
      },
      "outputs": [
        {
          "output_type": "stream",
          "name": "stdout",
          "text": [
            "Mounted at /content/gdrive/\n"
          ]
        }
      ],
      "source": [
        "from google.colab import drive\n",
        "drive.mount('/content/gdrive/')"
      ]
    },
    {
      "cell_type": "markdown",
      "metadata": {
        "id": "FTCRQ-yd250v"
      },
      "source": [
        "## Data Preprocessing"
      ]
    },
    {
      "cell_type": "code",
      "execution_count": null,
      "metadata": {
        "id": "OvCwfLNnhymG"
      },
      "outputs": [],
      "source": [
        "os.makedirs('/content/spectrograms3sec')"
      ]
    },
    {
      "cell_type": "markdown",
      "metadata": {
        "id": "eBuuOdGP2S0n"
      },
      "source": [
        "### Getting a list of genre and splitting the audio files\n",
        "The audio files are split into 3 sec files and stored as per the original format of the dataset."
      ]
    },
    {
      "cell_type": "code",
      "execution_count": null,
      "metadata": {
        "colab": {
          "base_uri": "https://localhost:8080/"
        },
        "id": "l2Im1KYbDkXI",
        "outputId": "a992c297-e51f-437c-fee4-5331d1ee63c0"
      },
      "outputs": [
        {
          "data": {
            "text/plain": [
              "['blues',\n",
              " 'metal',\n",
              " 'classical',\n",
              " 'hiphop',\n",
              " 'country',\n",
              " 'reggae',\n",
              " 'jazz',\n",
              " 'pop',\n",
              " 'rock',\n",
              " 'disco']"
            ]
          },
          "execution_count": 3,
          "metadata": {},
          "output_type": "execute_result"
        }
      ],
      "source": [
        "data_dir='/content/gdrive/My Drive/DL_Project/Data/genres_original'\n",
        "list_files=os.listdir(data_dir)\n",
        "genres=[]\n",
        "for file in list_files:\n",
        "  name='{}/{}'.format(data_dir,file)\n",
        "  if os.path.isdir(name):\n",
        "    genres.append(file)\n",
        "genres"
      ]
    },
    {
      "cell_type": "code",
      "execution_count": null,
      "metadata": {
        "id": "HgETWmbtgEUy"
      },
      "outputs": [],
      "source": [
        "for g in genres:\n",
        "  path_audio = os.path.join('/content/audioSplit',f'{g}')\n",
        "  os.makedirs(path_audio)\n",
        "  \n",
        "  path = os.path.join('/content/gdrive/My Drive/DL_Project/spectrogramsSplit/',f'{g}')\n",
        "  os. makedirs(path)\n"
      ]
    },
    {
      "cell_type": "code",
      "execution_count": null,
      "metadata": {
        "colab": {
          "base_uri": "https://localhost:8080/"
        },
        "id": "vZWt7Eu8fe2C",
        "outputId": "4d0eccfc-7416-400e-8af5-5d4477984925"
      },
      "outputs": [
        {
          "name": "stdout",
          "output_type": "stream",
          "text": [
            "File Deleted Already!\n"
          ]
        }
      ],
      "source": [
        "# Delete Faulty File\n",
        "exists = os.path.isfile(\"/content/gdrive/MyDrive/DL_Project/Data/genres_original/jazz/jazz.00054.wav\")\n",
        "\n",
        "if exists:\n",
        "  os.remove('/content/gdrive/MyDrive/DL_Project/Data/genres_original/jazz/jazz.00054.wav')\n",
        "  print(\"Deleted the faulty file.\")\n",
        "else:\n",
        "  print(\"File Deleted Already!\")"
      ]
    },
    {
      "cell_type": "code",
      "execution_count": null,
      "metadata": {
        "colab": {
          "base_uri": "https://localhost:8080/"
        },
        "id": "xJONUdg69tg7",
        "outputId": "90813a64-6f56-4f1c-976c-5f6819441ee6"
      },
      "outputs": [
        {
          "name": "stdout",
          "output_type": "stream",
          "text": [
            "blues\n",
            "metal\n",
            "classical\n",
            "hiphop\n",
            "country\n",
            "reggae\n",
            "jazz\n",
            "pop\n",
            "rock\n",
            "disco\n"
          ]
        }
      ],
      "source": [
        "from pydub import AudioSegment\n",
        "newSong = 'newSong'\n",
        "i = 0\n",
        "for genre in genres:\n",
        "  j=0\n",
        "  print(f\"{genre}\")\n",
        "  for filename in os.listdir(os.path.join('/content/gdrive/MyDrive/DL_Project/Data/genres_original/',f\"{genre}\")):\n",
        "\n",
        "    song  =  os.path.join(f'/content/gdrive/MyDrive/DL_Project/Data/genres_original/{genre}',f'{filename}')\n",
        "    j = j+1\n",
        "    for w in range(0,10):\n",
        "      i = i+1\n",
        "      start = 3*(w)*1000\n",
        "      end = 3*(w+1)*1000\n",
        "      newAudio = AudioSegment.from_wav(song)\n",
        "      new = newAudio[start:end]\n",
        "      new.export(f'/content/audioSplit/{genre}/{genre+str(j)+str(w)}.wav', format=\"wav\")"
      ]
    },
    {
      "cell_type": "code",
      "execution_count": null,
      "metadata": {
        "id": "a0ugB2_kFySD"
      },
      "outputs": [],
      "source": [
        "!zip -r /content/audioSplit.zip /content/audioSplit"
      ]
    },
    {
      "cell_type": "markdown",
      "metadata": {
        "id": "201lIFwf2xYH"
      },
      "source": [
        "### Creating Spectrograms for each audio file"
      ]
    },
    {
      "cell_type": "code",
      "execution_count": null,
      "metadata": {
        "colab": {
          "background_save": true
        },
        "id": "bVVA6SMuiIJ9"
      },
      "outputs": [],
      "source": [
        "for genre in genres:\n",
        "  \n",
        "  j = 0\n",
        "  print(\"Saving audio files for genre:\",genre)\n",
        "  for filename in os.listdir(os.path.join('/content/audioSplit',f\"{genre}\")):\n",
        "    song  =  os.path.join(f'/content/audioSplit/{genre}',f'{filename}')\n",
        "    j = j+1\n",
        "    \n",
        "    y,sr = librosa.load(song,duration=3)\n",
        "    mels = librosa.feature.melspectrogram(y=y,sr=sr)\n",
        "    fig = plt.Figure()\n",
        "    canvas = FigureCanvas(fig)\n",
        "    p = plt.imshow(librosa.power_to_db(mels,ref=np.max))\n",
        "    plt.savefig(f'/content/gdrive/My Drive/DL_Project/spectrogramsSplit/{genre}/{genre+str(j)}.png')\n",
        "    print(filename, \"saved\")\n"
      ]
    },
    {
      "cell_type": "markdown",
      "metadata": {
        "id": "lwViTvbI3D5_"
      },
      "source": [
        "### Checking the number of files -- optional\n",
        "The cell can be run to check if all the files are stored at a given path"
      ]
    },
    {
      "cell_type": "code",
      "execution_count": null,
      "metadata": {
        "id": "xhuTmNgNC4Yu"
      },
      "outputs": [],
      "source": [
        "import os\n",
        "APP_FOLDER = '/content/gdrive/My Drive/DL_Project/spectrogramsSplit/classical/'\n",
        "totalFiles = 0\n",
        "totalDir = 0\n",
        "for base, dirs, files in os.walk(APP_FOLDER):\n",
        "    print('Searching in : ',base)\n",
        "    for directories in dirs:\n",
        "        totalDir += 1\n",
        "    for Files in files:\n",
        "        totalFiles += 1\n",
        "\n",
        "print('Total number of files',totalFiles)\n",
        "print('Total Number of directories',totalDir)\n",
        "print('Total:',(totalDir + totalFiles))"
      ]
    },
    {
      "cell_type": "markdown",
      "metadata": {
        "id": "lTSg17AQ3QZa"
      },
      "source": [
        "### Splitting the Spectrogram Dataset into Training, Test and Validation data\n",
        "\n",
        "The data is present in folders and hence I am using the `splitfolders` library to create these datasets. The dataset has a total of 999 files. I have kept 80% data for model training, 1% for validation and 1% for testing."
      ]
    },
    {
      "cell_type": "code",
      "execution_count": null,
      "metadata": {
        "colab": {
          "base_uri": "https://localhost:8080/"
        },
        "id": "Nd97qITIw6k0",
        "outputId": "4791c70d-5941-4da3-e12d-f1dd34c8bf15"
      },
      "outputs": [
        {
          "name": "stdout",
          "output_type": "stream",
          "text": [
            "Collecting split-folders\n",
            "  Downloading split_folders-0.5.1-py3-none-any.whl (8.4 kB)\n",
            "Installing collected packages: split-folders\n",
            "Successfully installed split-folders-0.5.1\n"
          ]
        }
      ],
      "source": [
        "!pip install split-folders\n",
        "import splitfolders"
      ]
    },
    {
      "cell_type": "code",
      "execution_count": null,
      "metadata": {
        "id": "qKYgdWJE2_TG"
      },
      "outputs": [],
      "source": [
        "os.makedirs('/content/gdrive/My Drive/DL_Project/Data/spectogram_data_3sec/')"
      ]
    },
    {
      "cell_type": "code",
      "execution_count": null,
      "metadata": {
        "colab": {
          "base_uri": "https://localhost:8080/"
        },
        "id": "qjQdU7mF3CS7",
        "outputId": "88bd63f3-8399-464d-f386-ff9486cd52ce"
      },
      "outputs": [
        {
          "name": "stderr",
          "output_type": "stream",
          "text": [
            "Copying files: 8990 files [05:09, 29.07 files/s]\n"
          ]
        }
      ],
      "source": [
        "splitfolders.ratio('/content/gdrive/My Drive/DL_Project/spectrogramsSplit/', output=\"/content/gdrive/My Drive/DL_Project/Data/spectogram_data_3sec\", seed=0, ratio=(0.6, 0.2,0.2)) "
      ]
    },
    {
      "cell_type": "markdown",
      "metadata": {
        "id": "iHzwB7XX3fQt"
      },
      "source": [
        "### Scaling the spectrograms\n",
        "\n",
        "`ImageDataGenerator` is used to generate batches of tensor image data with real-time data augmentation. We use it to scale the images. \n",
        "\n",
        "Keras’ ImageDataGenerator class provide three different functions to loads the image dataset in memory and generates batches of augmented data. These three functions are:\n",
        "- flow()\n",
        "- flow_from_directory()\n",
        "- flow_from_dataframe()\n",
        "\n",
        "The `flow_from_directory()` function is used since the folder contains sub-directories, each containing images of respective classes."
      ]
    },
    {
      "cell_type": "code",
      "execution_count": 12,
      "metadata": {
        "colab": {
          "base_uri": "https://localhost:8080/"
        },
        "id": "o78Q1xTo3mRn",
        "outputId": "740de871-b1b6-4659-b4a5-5e22cb18df18"
      },
      "outputs": [
        {
          "output_type": "stream",
          "name": "stdout",
          "text": [
            "Found 5394 images belonging to 10 classes.\n",
            "Found 1798 images belonging to 10 classes.\n"
          ]
        }
      ],
      "source": [
        "train_dir = \"/content/gdrive/My Drive/DL_Project/Data/spectogram_data_3sec/train/\"\n",
        "train_datagen = ImageDataGenerator(rescale=1./255)\n",
        "train_generator = train_datagen.flow_from_directory(train_dir,target_size=(288,432),color_mode=\"rgba\",class_mode='categorical',batch_size=32)\n",
        "\n",
        "validation_dir = \"/content/gdrive/My Drive/DL_Project/Data/spectogram_data_3sec/val/\"\n",
        "validation_datagen = ImageDataGenerator(rescale=1./255)\n",
        "validation_generator = validation_datagen.flow_from_directory(validation_dir,target_size=(288,432),color_mode='rgba',class_mode='categorical',batch_size=32)\n"
      ]
    },
    {
      "cell_type": "markdown",
      "metadata": {
        "id": "VmtmFgDC3m7-"
      },
      "source": [
        "## Classification Model\n",
        "Creating and running a CNN classifier on the augmented data"
      ]
    },
    {
      "cell_type": "code",
      "execution_count": null,
      "metadata": {
        "id": "yi8lZUStDa6U"
      },
      "outputs": [],
      "source": [
        "def GenreModel(input_shape = (288,432,4),classes=10):\n",
        "  np.random.seed(9)\n",
        "  X_input = Input(input_shape)\n",
        "\n",
        "  X = Conv2D(8,kernel_size=(3,3),strides=(1,1),kernel_initializer = glorot_uniform(seed=9))(X_input)\n",
        "  X = BatchNormalization(axis=3)(X)\n",
        "  X = Activation('relu')(X)\n",
        "  X = MaxPooling2D((2,2))(X)\n",
        "  \n",
        "  X = Conv2D(16,kernel_size=(3,3),strides = (1,1),kernel_initializer=glorot_uniform(seed=9))(X)\n",
        "  X = BatchNormalization(axis=3)(X)\n",
        "  X = Activation('relu')(X)\n",
        "  X = MaxPooling2D((2,2))(X)\n",
        "  \n",
        "  X = Conv2D(32,kernel_size=(3,3),strides = (1,1),kernel_initializer = glorot_uniform(seed=9))(X)\n",
        "  X = BatchNormalization(axis=3)(X)\n",
        "  X = Activation('relu')(X)\n",
        "  X = MaxPooling2D((2,2))(X)\n",
        "\n",
        "  X = Conv2D(64,kernel_size=(3,3),strides=(1,1),kernel_initializer=glorot_uniform(seed=9))(X)\n",
        "  X = BatchNormalization(axis=-1)(X)\n",
        "  X = Activation('relu')(X)\n",
        "  X = MaxPooling2D((2,2))(X)\n",
        "\n",
        "  \n",
        "  X = Flatten()(X)\n",
        "\n",
        "  X = Dense(classes, activation='softmax', name='fc' + str(classes), kernel_initializer = glorot_uniform(seed=9))(X)\n",
        "\n",
        "  model = Model(inputs=X_input,outputs=X,name='GenreModel')\n",
        "\n",
        "  return model\n"
      ]
    },
    {
      "cell_type": "code",
      "execution_count": null,
      "metadata": {
        "id": "CyqQPZuynNe4"
      },
      "outputs": [],
      "source": [
        "model = GenreModel(input_shape=(288,432,4),classes=10)\n",
        "opt = tf.optimizers.Adam(learning_rate=0.00005)\n",
        "model.compile(optimizer = opt,loss='categorical_crossentropy',metrics=['acc'])"
      ]
    },
    {
      "cell_type": "code",
      "execution_count": null,
      "metadata": {
        "colab": {
          "base_uri": "https://localhost:8080/"
        },
        "outputId": "c080c310-7a41-4f71-f507-cc133ed217c9",
        "id": "lgSCsHXHnNe6"
      },
      "outputs": [
        {
          "output_type": "stream",
          "name": "stdout",
          "text": [
            "Model: \"GenreModel\"\n",
            "_________________________________________________________________\n",
            " Layer (type)                Output Shape              Param #   \n",
            "=================================================================\n",
            " input_1 (InputLayer)        [(None, 288, 432, 4)]     0         \n",
            "                                                                 \n",
            " conv2d (Conv2D)             (None, 286, 430, 8)       296       \n",
            "                                                                 \n",
            " batch_normalization (BatchN  (None, 286, 430, 8)      32        \n",
            " ormalization)                                                   \n",
            "                                                                 \n",
            " activation (Activation)     (None, 286, 430, 8)       0         \n",
            "                                                                 \n",
            " max_pooling2d (MaxPooling2D  (None, 143, 215, 8)      0         \n",
            " )                                                               \n",
            "                                                                 \n",
            " conv2d_1 (Conv2D)           (None, 141, 213, 16)      1168      \n",
            "                                                                 \n",
            " batch_normalization_1 (Batc  (None, 141, 213, 16)     64        \n",
            " hNormalization)                                                 \n",
            "                                                                 \n",
            " activation_1 (Activation)   (None, 141, 213, 16)      0         \n",
            "                                                                 \n",
            " max_pooling2d_1 (MaxPooling  (None, 70, 106, 16)      0         \n",
            " 2D)                                                             \n",
            "                                                                 \n",
            " conv2d_2 (Conv2D)           (None, 68, 104, 32)       4640      \n",
            "                                                                 \n",
            " batch_normalization_2 (Batc  (None, 68, 104, 32)      128       \n",
            " hNormalization)                                                 \n",
            "                                                                 \n",
            " activation_2 (Activation)   (None, 68, 104, 32)       0         \n",
            "                                                                 \n",
            " max_pooling2d_2 (MaxPooling  (None, 34, 52, 32)       0         \n",
            " 2D)                                                             \n",
            "                                                                 \n",
            " conv2d_3 (Conv2D)           (None, 32, 50, 64)        18496     \n",
            "                                                                 \n",
            " batch_normalization_3 (Batc  (None, 32, 50, 64)       256       \n",
            " hNormalization)                                                 \n",
            "                                                                 \n",
            " activation_3 (Activation)   (None, 32, 50, 64)        0         \n",
            "                                                                 \n",
            " max_pooling2d_3 (MaxPooling  (None, 16, 25, 64)       0         \n",
            " 2D)                                                             \n",
            "                                                                 \n",
            " flatten (Flatten)           (None, 25600)             0         \n",
            "                                                                 \n",
            " fc10 (Dense)                (None, 10)                256010    \n",
            "                                                                 \n",
            "=================================================================\n",
            "Total params: 281,090\n",
            "Trainable params: 280,850\n",
            "Non-trainable params: 240\n",
            "_________________________________________________________________\n"
          ]
        }
      ],
      "source": [
        "model.summary()"
      ]
    },
    {
      "cell_type": "code",
      "execution_count": null,
      "metadata": {
        "colab": {
          "base_uri": "https://localhost:8080/"
        },
        "outputId": "1014a64d-a920-48c8-c1f0-50d01276246c",
        "id": "dCbH3dXAnNe7"
      },
      "outputs": [
        {
          "output_type": "stream",
          "name": "stdout",
          "text": [
            "Epoch 1/40\n",
            "81/81 [==============================] - 855s 10s/step - loss: 1.9303 - acc: 0.2727 - val_loss: 2.3523 - val_acc: 0.1118\n",
            "Epoch 2/40\n",
            "81/81 [==============================] - 43s 527ms/step - loss: 1.5343 - acc: 0.4526 - val_loss: 2.4300 - val_acc: 0.2202\n",
            "Epoch 3/40\n",
            "81/81 [==============================] - 43s 528ms/step - loss: 1.3813 - acc: 0.4951 - val_loss: 2.0059 - val_acc: 0.2603\n",
            "Epoch 4/40\n",
            "81/81 [==============================] - 43s 530ms/step - loss: 1.2410 - acc: 0.5599 - val_loss: 1.6525 - val_acc: 0.4483\n",
            "Epoch 5/40\n",
            "81/81 [==============================] - 43s 530ms/step - loss: 1.1374 - acc: 0.5923 - val_loss: 1.5465 - val_acc: 0.4399\n",
            "Epoch 6/40\n",
            "81/81 [==============================] - 43s 531ms/step - loss: 1.0608 - acc: 0.6317 - val_loss: 1.3184 - val_acc: 0.5545\n",
            "Epoch 7/40\n",
            "81/81 [==============================] - 43s 534ms/step - loss: 0.9809 - acc: 0.6641 - val_loss: 1.2566 - val_acc: 0.5584\n",
            "Epoch 8/40\n",
            "81/81 [==============================] - 43s 529ms/step - loss: 0.8942 - acc: 0.7085 - val_loss: 1.1099 - val_acc: 0.6090\n",
            "Epoch 9/40\n",
            "81/81 [==============================] - 43s 532ms/step - loss: 0.8280 - acc: 0.7210 - val_loss: 1.0175 - val_acc: 0.6379\n",
            "Epoch 10/40\n",
            "81/81 [==============================] - 43s 526ms/step - loss: 0.7603 - acc: 0.7604 - val_loss: 1.0379 - val_acc: 0.6185\n",
            "Epoch 11/40\n",
            "81/81 [==============================] - 42s 523ms/step - loss: 0.6973 - acc: 0.7827 - val_loss: 0.9776 - val_acc: 0.6596\n",
            "Epoch 12/40\n",
            "81/81 [==============================] - 43s 527ms/step - loss: 0.6789 - acc: 0.7796 - val_loss: 1.0325 - val_acc: 0.6402\n",
            "Epoch 13/40\n",
            "81/81 [==============================] - 43s 531ms/step - loss: 0.6016 - acc: 0.8158 - val_loss: 0.9928 - val_acc: 0.6491\n",
            "Epoch 14/40\n",
            "81/81 [==============================] - 43s 532ms/step - loss: 0.5583 - acc: 0.8350 - val_loss: 0.9633 - val_acc: 0.6557\n",
            "Epoch 15/40\n",
            "81/81 [==============================] - 43s 531ms/step - loss: 0.5359 - acc: 0.8373 - val_loss: 0.9836 - val_acc: 0.6507\n",
            "Epoch 16/40\n",
            "81/81 [==============================] - 43s 528ms/step - loss: 0.4689 - acc: 0.8631 - val_loss: 0.9358 - val_acc: 0.6796\n",
            "Epoch 17/40\n",
            "81/81 [==============================] - 42s 521ms/step - loss: 0.4500 - acc: 0.8755 - val_loss: 0.9819 - val_acc: 0.6568\n",
            "Epoch 18/40\n",
            "81/81 [==============================] - 42s 518ms/step - loss: 0.4183 - acc: 0.8833 - val_loss: 0.8841 - val_acc: 0.6891\n",
            "Epoch 19/40\n",
            "81/81 [==============================] - 42s 517ms/step - loss: 0.3803 - acc: 0.9001 - val_loss: 0.9327 - val_acc: 0.6741\n",
            "Epoch 20/40\n",
            "81/81 [==============================] - 42s 523ms/step - loss: 0.3434 - acc: 0.9173 - val_loss: 0.9356 - val_acc: 0.6769\n",
            "Epoch 21/40\n",
            "81/81 [==============================] - 42s 523ms/step - loss: 0.3284 - acc: 0.9196 - val_loss: 1.0521 - val_acc: 0.6474\n",
            "Epoch 22/40\n",
            "81/81 [==============================] - 41s 510ms/step - loss: 0.3023 - acc: 0.9306 - val_loss: 0.9410 - val_acc: 0.6702\n",
            "Epoch 23/40\n",
            "81/81 [==============================] - 41s 510ms/step - loss: 0.2781 - acc: 0.9415 - val_loss: 0.9271 - val_acc: 0.6763\n",
            "Epoch 24/40\n",
            "81/81 [==============================] - 41s 512ms/step - loss: 0.2629 - acc: 0.9454 - val_loss: 0.9084 - val_acc: 0.6824\n",
            "Epoch 25/40\n",
            "81/81 [==============================] - 41s 510ms/step - loss: 0.2426 - acc: 0.9524 - val_loss: 0.8831 - val_acc: 0.6952\n",
            "Epoch 26/40\n",
            "81/81 [==============================] - 42s 517ms/step - loss: 0.2140 - acc: 0.9684 - val_loss: 0.8846 - val_acc: 0.6958\n",
            "Epoch 27/40\n",
            "81/81 [==============================] - 42s 517ms/step - loss: 0.2000 - acc: 0.9668 - val_loss: 0.9053 - val_acc: 0.6924\n",
            "Epoch 28/40\n",
            "81/81 [==============================] - 42s 518ms/step - loss: 0.1806 - acc: 0.9746 - val_loss: 0.8703 - val_acc: 0.6952\n",
            "Epoch 29/40\n",
            "81/81 [==============================] - 42s 523ms/step - loss: 0.1805 - acc: 0.9739 - val_loss: 0.8822 - val_acc: 0.6963\n",
            "Epoch 30/40\n",
            "81/81 [==============================] - 42s 516ms/step - loss: 0.1541 - acc: 0.9848 - val_loss: 0.9056 - val_acc: 0.6991\n",
            "Epoch 31/40\n",
            "81/81 [==============================] - 42s 518ms/step - loss: 0.1452 - acc: 0.9844 - val_loss: 0.9145 - val_acc: 0.6980\n",
            "Epoch 32/40\n",
            "81/81 [==============================] - 41s 509ms/step - loss: 0.1302 - acc: 0.9906 - val_loss: 0.9027 - val_acc: 0.6980\n",
            "Epoch 33/40\n",
            "81/81 [==============================] - 41s 505ms/step - loss: 0.1213 - acc: 0.9914 - val_loss: 0.9395 - val_acc: 0.6830\n",
            "Epoch 34/40\n",
            "81/81 [==============================] - 42s 514ms/step - loss: 0.1147 - acc: 0.9887 - val_loss: 0.8617 - val_acc: 0.7108\n",
            "Epoch 35/40\n",
            "81/81 [==============================] - 41s 512ms/step - loss: 0.1093 - acc: 0.9906 - val_loss: 0.9049 - val_acc: 0.6986\n",
            "Epoch 36/40\n",
            "81/81 [==============================] - 42s 515ms/step - loss: 0.1102 - acc: 0.9879 - val_loss: 0.8727 - val_acc: 0.7147\n",
            "Epoch 37/40\n",
            "81/81 [==============================] - 41s 514ms/step - loss: 0.0868 - acc: 0.9973 - val_loss: 0.8661 - val_acc: 0.7141\n",
            "Epoch 38/40\n",
            "81/81 [==============================] - 41s 509ms/step - loss: 0.0812 - acc: 0.9969 - val_loss: 0.9217 - val_acc: 0.6919\n",
            "Epoch 39/40\n",
            "81/81 [==============================] - 41s 503ms/step - loss: 0.0805 - acc: 0.9938 - val_loss: 0.9069 - val_acc: 0.6991\n",
            "Epoch 40/40\n",
            "81/81 [==============================] - 41s 508ms/step - loss: 0.0878 - acc: 0.9922 - val_loss: 0.8786 - val_acc: 0.7113\n"
          ]
        }
      ],
      "source": [
        "history = model.fit(train_generator,epochs=40,validation_data=validation_generator)"
      ]
    },
    {
      "cell_type": "code",
      "execution_count": null,
      "metadata": {
        "colab": {
          "base_uri": "https://localhost:8080/",
          "height": 545
        },
        "outputId": "5498807f-5c40-4cc4-8eb8-b7f84cf1491d",
        "id": "uwF6flvom2Or"
      },
      "outputs": [
        {
          "output_type": "display_data",
          "data": {
            "text/plain": [
              "<Figure size 432x288 with 1 Axes>"
            ],
            "image/png": "[encoded data removed]"
          },
          "metadata": {
            "needs_background": "light"
          }
        },
        {
          "output_type": "display_data",
          "data": {
            "text/plain": [
              "<Figure size 432x288 with 1 Axes>"
            ],
            "image/png": "[encoded data removed]"
          },
          "metadata": {
            "needs_background": "light"
          }
        }
      ],
      "source": [
        "def plot_performance(hist):\n",
        "    \n",
        "    acc = hist.history['acc']\n",
        "    val_acc = hist.history['val_acc']\n",
        "    loss = hist.history['loss']\n",
        "    val_loss = hist.history['val_loss']\n",
        "\n",
        "    epochs = range(len(acc))\n",
        "\n",
        "    plt.plot(epochs, acc, 'r', label='Training accuracy')\n",
        "    plt.plot(epochs, val_acc, 'b', label='Validation accuracy')\n",
        "    plt.title('Training and validation accuracy')\n",
        "    plt.legend()\n",
        "    plt.figure()\n",
        "\n",
        "    plt.plot(epochs, loss, 'r', label='Training Loss')\n",
        "    plt.plot(epochs, val_loss, 'b', label='Validation Loss')\n",
        "    plt.title('Training and validation loss')\n",
        "    plt.legend()\n",
        "\n",
        "    plt.show()\n",
        "\n",
        "plot_performance(history)"
      ]
    },
    {
      "cell_type": "markdown",
      "metadata": {
        "id": "8sqlv_iH4uSa"
      },
      "source": [
        "### Save the trained model for future use\n",
        "I have saved the model in .h5 format"
      ]
    },
    {
      "cell_type": "code",
      "execution_count": null,
      "metadata": {
        "colab": {
          "base_uri": "https://localhost:8080/"
        },
        "id": "l4QfWObfc5UQ",
        "outputId": "6a639c55-1b3d-4a8b-e40f-947e96729d6c"
      },
      "outputs": [
        {
          "name": "stdout",
          "output_type": "stream",
          "text": [
            "Requirement already satisfied: pyyaml in /usr/local/lib/python3.7/dist-packages (3.13)\n",
            "Requirement already satisfied: h5py in /usr/local/lib/python3.7/dist-packages (3.1.0)\n",
            "Requirement already satisfied: numpy>=1.14.5 in /usr/local/lib/python3.7/dist-packages (from h5py) (1.21.6)\n",
            "Requirement already satisfied: cached-property in /usr/local/lib/python3.7/dist-packages (from h5py) (1.5.2)\n"
          ]
        }
      ],
      "source": [
        "!pip install pyyaml h5py  # Required to save models in HDF5 format"
      ]
    },
    {
      "cell_type": "code",
      "execution_count": null,
      "metadata": {
        "colab": {
          "base_uri": "https://localhost:8080/"
        },
        "id": "wBKWGEoQc8Tx",
        "outputId": "19284ef4-f78d-4181-ea48-ff11737e5a86"
      },
      "outputs": [
        {
          "output_type": "stream",
          "name": "stdout",
          "text": [
            "Model Saved!\n",
            "Model: \"GenreModel\"\n",
            "_________________________________________________________________\n",
            " Layer (type)                Output Shape              Param #   \n",
            "=================================================================\n",
            " input_1 (InputLayer)        [(None, 288, 432, 4)]     0         \n",
            "                                                                 \n",
            " conv2d (Conv2D)             (None, 286, 430, 8)       296       \n",
            "                                                                 \n",
            " batch_normalization (BatchN  (None, 286, 430, 8)      32        \n",
            " ormalization)                                                   \n",
            "                                                                 \n",
            " activation (Activation)     (None, 286, 430, 8)       0         \n",
            "                                                                 \n",
            " max_pooling2d (MaxPooling2D  (None, 143, 215, 8)      0         \n",
            " )                                                               \n",
            "                                                                 \n",
            " conv2d_1 (Conv2D)           (None, 141, 213, 16)      1168      \n",
            "                                                                 \n",
            " batch_normalization_1 (Batc  (None, 141, 213, 16)     64        \n",
            " hNormalization)                                                 \n",
            "                                                                 \n",
            " activation_1 (Activation)   (None, 141, 213, 16)      0         \n",
            "                                                                 \n",
            " max_pooling2d_1 (MaxPooling  (None, 70, 106, 16)      0         \n",
            " 2D)                                                             \n",
            "                                                                 \n",
            " conv2d_2 (Conv2D)           (None, 68, 104, 32)       4640      \n",
            "                                                                 \n",
            " batch_normalization_2 (Batc  (None, 68, 104, 32)      128       \n",
            " hNormalization)                                                 \n",
            "                                                                 \n",
            " activation_2 (Activation)   (None, 68, 104, 32)       0         \n",
            "                                                                 \n",
            " max_pooling2d_2 (MaxPooling  (None, 34, 52, 32)       0         \n",
            " 2D)                                                             \n",
            "                                                                 \n",
            " conv2d_3 (Conv2D)           (None, 32, 50, 64)        18496     \n",
            "                                                                 \n",
            " batch_normalization_3 (Batc  (None, 32, 50, 64)       256       \n",
            " hNormalization)                                                 \n",
            "                                                                 \n",
            " activation_3 (Activation)   (None, 32, 50, 64)        0         \n",
            "                                                                 \n",
            " max_pooling2d_3 (MaxPooling  (None, 16, 25, 64)       0         \n",
            " 2D)                                                             \n",
            "                                                                 \n",
            " flatten (Flatten)           (None, 25600)             0         \n",
            "                                                                 \n",
            " fc10 (Dense)                (None, 10)                256010    \n",
            "                                                                 \n",
            "=================================================================\n",
            "Total params: 281,090\n",
            "Trainable params: 280,850\n",
            "Non-trainable params: 240\n",
            "_________________________________________________________________\n"
          ]
        }
      ],
      "source": [
        "# save model\n",
        "model.save('genreModel.h5')\n",
        "print('Model Saved!')\n",
        " \n",
        "import h5py \n",
        "# load model\n",
        "savedModel=load_model('genreModel.h5')\n",
        "savedModel.summary()"
      ]
    },
    {
      "cell_type": "markdown",
      "metadata": {
        "id": "9FxC6ypO42Oy"
      },
      "source": [
        "### Plotting the model graph for better visualization"
      ]
    },
    {
      "cell_type": "code",
      "execution_count": null,
      "metadata": {
        "colab": {
          "base_uri": "https://localhost:8080/",
          "height": 1000
        },
        "id": "BqIT9e0H_rH9",
        "outputId": "f6b15681-a085-4ec6-9d75-2bb559d224c3"
      },
      "outputs": [
        {
          "output_type": "execute_result",
          "data": {
            "text/plain": [
              "<IPython.core.display.Image object>"
            ],
            "image/png": "[encoded data removed]"
          },
          "metadata": {},
          "execution_count": 18
        }
      ],
      "source": [
        "dot_img_file = 'genreModel.png'\n",
        "tf.keras.utils.plot_model(savedModel, to_file=dot_img_file, show_shapes=True)"
      ]
    },
    {
      "cell_type": "markdown",
      "metadata": {
        "id": "8BNWdF2h373M"
      },
      "source": [
        "### Create a test generator for testing"
      ]
    },
    {
      "cell_type": "code",
      "execution_count": 4,
      "metadata": {
        "id": "WlhIwmGhf2aX",
        "colab": {
          "base_uri": "https://localhost:8080/"
        },
        "outputId": "34cba4b9-43e9-43f5-9642-01c544dfde37"
      },
      "outputs": [
        {
          "output_type": "stream",
          "name": "stdout",
          "text": [
            "Found 1798 images belonging to 10 classes.\n"
          ]
        }
      ],
      "source": [
        "test_dir = \"/content/gdrive/My Drive/DL_Project/Data/spectogram_data_3sec/test/\"\n",
        "test_datagen = ImageDataGenerator(rescale=1./255)\n",
        "test_generator = test_datagen.flow_from_directory(test_dir,target_size=(288,432),color_mode='rgba',class_mode='categorical',batch_size=32)\n"
      ]
    },
    {
      "cell_type": "markdown",
      "metadata": {
        "id": "CKo-4mCb399B"
      },
      "source": [
        "### Predict for test data\n",
        "We can predict per sample. I have created a dataframe from all the predictions. I have extracted the original label from the song file names.\n",
        "These can be compared to get better idea about the results. "
      ]
    },
    {
      "cell_type": "code",
      "execution_count": 6,
      "metadata": {
        "colab": {
          "base_uri": "https://localhost:8080/"
        },
        "id": "BC55wNKfhzDU",
        "outputId": "d9106196-fa5a-4c4b-ffa4-94f3d1b4ccd5"
      },
      "outputs": [
        {
          "output_type": "stream",
          "name": "stderr",
          "text": [
            "/usr/local/lib/python3.7/dist-packages/ipykernel_launcher.py:1: UserWarning: `Model.evaluate_generator` is deprecated and will be removed in a future version. Please use `Model.evaluate`, which supports generators.\n",
            "  \"\"\"Entry point for launching an IPython kernel.\n"
          ]
        },
        {
          "output_type": "stream",
          "name": "stdout",
          "text": [
            "57/57 [==============================] - 288s 5s/step - loss: 0.8618 - acc: 0.7158\n"
          ]
        },
        {
          "output_type": "execute_result",
          "data": {
            "text/plain": [
              "[0.8617639541625977, 0.7157953381538391]"
            ]
          },
          "metadata": {},
          "execution_count": 6
        }
      ],
      "source": [
        "savedModel.evaluate_generator(test_generator, verbose=1)"
      ]
    },
    {
      "cell_type": "markdown",
      "source": [
        "The first value here represents loss and the second shows accuracy of the model. The model has an accuracy of 71.5% on test data. "
      ],
      "metadata": {
        "id": "xI3WzBKQBjko"
      }
    },
    {
      "cell_type": "code",
      "execution_count": 22,
      "metadata": {
        "id": "9Is9fHH5hBp8"
      },
      "outputs": [],
      "source": [
        "test_generator.reset()\n",
        "files=test_generator.filenames\n",
        "class_dict=test_generator.class_indices # a dictionary of the form class name: class index\n",
        "rev_dict={}\n",
        "for key, value in class_dict.items():\n",
        "    rev_dict[value]=key   # dictionary of the form class index: class name\n",
        "predictions = savedModel.predict(test_generator)"
      ]
    },
    {
      "cell_type": "code",
      "execution_count": 23,
      "metadata": {
        "id": "kXytrdhwhM2X"
      },
      "outputs": [],
      "source": [
        "file_name =[]\n",
        "class_pred = []\n",
        "probability_pred = []\n",
        "for i, p in enumerate(predictions):\n",
        "    index=np.argmax(p)\n",
        "    klass=rev_dict[index]    \n",
        "    prob=p[index]\n",
        "    file_name.append(files[i])\n",
        "    class_pred.append(klass)\n",
        "    probability_pred.append(prob)\n",
        "    #print('for file ', files[i], ' predicted class is ', klass,' with probability ',prob)\n"
      ]
    },
    {
      "cell_type": "code",
      "execution_count": 24,
      "metadata": {
        "colab": {
          "base_uri": "https://localhost:8080/",
          "height": 419
        },
        "id": "gK-3OItxkpoT",
        "outputId": "a79971ae-babc-4e46-97a1-9778924deee6"
      },
      "outputs": [
        {
          "output_type": "execute_result",
          "data": {
            "text/plain": [
              "                Filename Predicted_Label  Prediction_Probability\n",
              "0      blues/blues10.png            jazz                0.998700\n",
              "1     blues/blues110.png          hiphop                0.997227\n",
              "2     blues/blues112.png           metal                0.608364\n",
              "3     blues/blues128.png       classical                0.999922\n",
              "4     blues/blues133.png          reggae                0.961586\n",
              "...                  ...             ...                     ...\n",
              "1793    rock/rock973.png         country                0.974009\n",
              "1794    rock/rock985.png             pop                0.939982\n",
              "1795    rock/rock987.png           blues                0.512033\n",
              "1796    rock/rock989.png          hiphop                0.706390\n",
              "1797    rock/rock998.png            jazz                0.461938\n",
              "\n",
              "[1798 rows x 3 columns]"
            ],
            "text/html": [
              "\n",
              "  <div id=\"df-b72a2b15-d01c-4869-8515-04b8994c5f95\">\n",
              "    <div class=\"colab-df-container\">\n",
              "      <div>\n",
              "<style scoped>\n",
              "    .dataframe tbody tr th:only-of-type {\n",
              "        vertical-align: middle;\n",
              "    }\n",
              "\n",
              "    .dataframe tbody tr th {\n",
              "        vertical-align: top;\n",
              "    }\n",
              "\n",
              "    .dataframe thead th {\n",
              "        text-align: right;\n",
              "    }\n",
              "</style>\n",
              "<table border=\"1\" class=\"dataframe\">\n",
              "  <thead>\n",
              "    <tr style=\"text-align: right;\">\n",
              "      <th></th>\n",
              "      <th>Filename</th>\n",
              "      <th>Predicted_Label</th>\n",
              "      <th>Prediction_Probability</th>\n",
              "    </tr>\n",
              "  </thead>\n",
              "  <tbody>\n",
              "    <tr>\n",
              "      <th>0</th>\n",
              "      <td>blues/blues10.png</td>\n",
              "      <td>jazz</td>\n",
              "      <td>0.998700</td>\n",
              "    </tr>\n",
              "    <tr>\n",
              "      <th>1</th>\n",
              "      <td>blues/blues110.png</td>\n",
              "      <td>hiphop</td>\n",
              "      <td>0.997227</td>\n",
              "    </tr>\n",
              "    <tr>\n",
              "      <th>2</th>\n",
              "      <td>blues/blues112.png</td>\n",
              "      <td>metal</td>\n",
              "      <td>0.608364</td>\n",
              "    </tr>\n",
              "    <tr>\n",
              "      <th>3</th>\n",
              "      <td>blues/blues128.png</td>\n",
              "      <td>classical</td>\n",
              "      <td>0.999922</td>\n",
              "    </tr>\n",
              "    <tr>\n",
              "      <th>4</th>\n",
              "      <td>blues/blues133.png</td>\n",
              "      <td>reggae</td>\n",
              "      <td>0.961586</td>\n",
              "    </tr>\n",
              "    <tr>\n",
              "      <th>...</th>\n",
              "      <td>...</td>\n",
              "      <td>...</td>\n",
              "      <td>...</td>\n",
              "    </tr>\n",
              "    <tr>\n",
              "      <th>1793</th>\n",
              "      <td>rock/rock973.png</td>\n",
              "      <td>country</td>\n",
              "      <td>0.974009</td>\n",
              "    </tr>\n",
              "    <tr>\n",
              "      <th>1794</th>\n",
              "      <td>rock/rock985.png</td>\n",
              "      <td>pop</td>\n",
              "      <td>0.939982</td>\n",
              "    </tr>\n",
              "    <tr>\n",
              "      <th>1795</th>\n",
              "      <td>rock/rock987.png</td>\n",
              "      <td>blues</td>\n",
              "      <td>0.512033</td>\n",
              "    </tr>\n",
              "    <tr>\n",
              "      <th>1796</th>\n",
              "      <td>rock/rock989.png</td>\n",
              "      <td>hiphop</td>\n",
              "      <td>0.706390</td>\n",
              "    </tr>\n",
              "    <tr>\n",
              "      <th>1797</th>\n",
              "      <td>rock/rock998.png</td>\n",
              "      <td>jazz</td>\n",
              "      <td>0.461938</td>\n",
              "    </tr>\n",
              "  </tbody>\n",
              "</table>\n",
              "<p>1798 rows × 3 columns</p>\n",
              "</div>\n",
              "      <button class=\"colab-df-convert\" onclick=\"convertToInteractive('df-b72a2b15-d01c-4869-8515-04b8994c5f95')\"\n",
              "              title=\"Convert this dataframe to an interactive table.\"\n",
              "              style=\"display:none;\">\n",
              "        \n",
              "  <svg xmlns=\"http://www.w3.org/2000/svg\" height=\"24px\"viewBox=\"0 0 24 24\"\n",
              "       width=\"24px\">\n",
              "    <path d=\"M0 0h24v24H0V0z\" fill=\"none\"/>\n",
              "    <path d=\"M18.56 5.44l.94 2.06.94-2.06 2.06-.94-2.06-.94-.94-2.06-.94 2.06-2.06.94zm-11 1L8.5 8.5l.94-2.06 2.06-.94-2.06-.94L8.5 2.5l-.94 2.06-2.06.94zm10 10l.94 2.06.94-2.06 2.06-.94-2.06-.94-.94-2.06-.94 2.06-2.06.94z\"/><path d=\"M17.41 7.96l-1.37-1.37c-.4-.4-.92-.59-1.43-.59-.52 0-1.04.2-1.43.59L10.3 9.45l-7.72 7.72c-.78.78-.78 2.05 0 2.83L4 21.41c.39.39.9.59 1.41.59.51 0 1.02-.2 1.41-.59l7.78-7.78 2.81-2.81c.8-.78.8-2.07 0-2.86zM5.41 20L4 18.59l7.72-7.72 1.47 1.35L5.41 20z\"/>\n",
              "  </svg>\n",
              "      </button>\n",
              "      \n",
              "  <style>\n",
              "    .colab-df-container {\n",
              "      display:flex;\n",
              "      flex-wrap:wrap;\n",
              "      gap: 12px;\n",
              "    }\n",
              "\n",
              "    .colab-df-convert {\n",
              "      background-color: #E8F0FE;\n",
              "      border: none;\n",
              "      border-radius: 50%;\n",
              "      cursor: pointer;\n",
              "      display: none;\n",
              "      fill: #1967D2;\n",
              "      height: 32px;\n",
              "      padding: 0 0 0 0;\n",
              "      width: 32px;\n",
              "    }\n",
              "\n",
              "    .colab-df-convert:hover {\n",
              "      background-color: #E2EBFA;\n",
              "      box-shadow: 0px 1px 2px rgba(60, 64, 67, 0.3), 0px 1px 3px 1px rgba(60, 64, 67, 0.15);\n",
              "      fill: #174EA6;\n",
              "    }\n",
              "\n",
              "    [theme=dark] .colab-df-convert {\n",
              "      background-color: #3B4455;\n",
              "      fill: #D2E3FC;\n",
              "    }\n",
              "\n",
              "    [theme=dark] .colab-df-convert:hover {\n",
              "      background-color: #434B5C;\n",
              "      box-shadow: 0px 1px 3px 1px rgba(0, 0, 0, 0.15);\n",
              "      filter: drop-shadow(0px 1px 2px rgba(0, 0, 0, 0.3));\n",
              "      fill: #FFFFFF;\n",
              "    }\n",
              "  </style>\n",
              "\n",
              "      <script>\n",
              "        const buttonEl =\n",
              "          document.querySelector('#df-b72a2b15-d01c-4869-8515-04b8994c5f95 button.colab-df-convert');\n",
              "        buttonEl.style.display =\n",
              "          google.colab.kernel.accessAllowed ? 'block' : 'none';\n",
              "\n",
              "        async function convertToInteractive(key) {\n",
              "          const element = document.querySelector('#df-b72a2b15-d01c-4869-8515-04b8994c5f95');\n",
              "          const dataTable =\n",
              "            await google.colab.kernel.invokeFunction('convertToInteractive',\n",
              "                                                     [key], {});\n",
              "          if (!dataTable) return;\n",
              "\n",
              "          const docLinkHtml = 'Like what you see? Visit the ' +\n",
              "            '<a target=\"_blank\" href=https://colab.research.google.com/notebooks/data_table.ipynb>data table notebook</a>'\n",
              "            + ' to learn more about interactive tables.';\n",
              "          element.innerHTML = '';\n",
              "          dataTable['output_type'] = 'display_data';\n",
              "          await google.colab.output.renderOutput(dataTable, element);\n",
              "          const docLink = document.createElement('div');\n",
              "          docLink.innerHTML = docLinkHtml;\n",
              "          element.appendChild(docLink);\n",
              "        }\n",
              "      </script>\n",
              "    </div>\n",
              "  </div>\n",
              "  "
            ]
          },
          "metadata": {},
          "execution_count": 24
        }
      ],
      "source": [
        "zipped = list(zip(file_name, class_pred, probability_pred))\n",
        "prediction_df = pd.DataFrame(zipped, columns=['Filename', 'Predicted_Label', 'Prediction_Probability'])\n",
        "prediction_df"
      ]
    },
    {
      "cell_type": "code",
      "execution_count": 25,
      "metadata": {
        "id": "fA_jRy-PUbxl"
      },
      "outputs": [],
      "source": [
        "prediction_df.to_csv(\"prediction_df_augmented_spectrograms\",index=False)\n",
        "# Splitting the song name to get original label\n",
        "prediction_df[\"Labels_original\"] = prediction_df[\"Filename\"].str.split(\"/\").str[0]"
      ]
    },
    {
      "cell_type": "code",
      "execution_count": 26,
      "metadata": {
        "colab": {
          "base_uri": "https://localhost:8080/",
          "height": 419
        },
        "id": "IPfnQdLGpyBR",
        "outputId": "11330a44-c588-4586-b579-e96e380f59e6"
      },
      "outputs": [
        {
          "output_type": "execute_result",
          "data": {
            "text/plain": [
              "                Filename Predicted_Label  Prediction_Probability  \\\n",
              "10    blues/blues166.png           blues                0.387889   \n",
              "24    blues/blues226.png           blues                0.369613   \n",
              "25    blues/blues227.png           blues                0.488743   \n",
              "36    blues/blues286.png           blues                0.826118   \n",
              "54    blues/blues358.png           blues                0.411567   \n",
              "...                  ...             ...                     ...   \n",
              "1760    rock/rock861.png            rock                0.939767   \n",
              "1761    rock/rock863.png            rock                0.747791   \n",
              "1765    rock/rock877.png            rock                0.765405   \n",
              "1772    rock/rock900.png            rock                0.447979   \n",
              "1775    rock/rock911.png            rock                0.834646   \n",
              "\n",
              "     Labels_original  \n",
              "10             blues  \n",
              "24             blues  \n",
              "25             blues  \n",
              "36             blues  \n",
              "54             blues  \n",
              "...              ...  \n",
              "1760            rock  \n",
              "1761            rock  \n",
              "1765            rock  \n",
              "1772            rock  \n",
              "1775            rock  \n",
              "\n",
              "[202 rows x 4 columns]"
            ],
            "text/html": [
              "\n",
              "  <div id=\"df-485f3fc0-d726-4678-bf54-9a76fdd14da7\">\n",
              "    <div class=\"colab-df-container\">\n",
              "      <div>\n",
              "<style scoped>\n",
              "    .dataframe tbody tr th:only-of-type {\n",
              "        vertical-align: middle;\n",
              "    }\n",
              "\n",
              "    .dataframe tbody tr th {\n",
              "        vertical-align: top;\n",
              "    }\n",
              "\n",
              "    .dataframe thead th {\n",
              "        text-align: right;\n",
              "    }\n",
              "</style>\n",
              "<table border=\"1\" class=\"dataframe\">\n",
              "  <thead>\n",
              "    <tr style=\"text-align: right;\">\n",
              "      <th></th>\n",
              "      <th>Filename</th>\n",
              "      <th>Predicted_Label</th>\n",
              "      <th>Prediction_Probability</th>\n",
              "      <th>Labels_original</th>\n",
              "    </tr>\n",
              "  </thead>\n",
              "  <tbody>\n",
              "    <tr>\n",
              "      <th>10</th>\n",
              "      <td>blues/blues166.png</td>\n",
              "      <td>blues</td>\n",
              "      <td>0.387889</td>\n",
              "      <td>blues</td>\n",
              "    </tr>\n",
              "    <tr>\n",
              "      <th>24</th>\n",
              "      <td>blues/blues226.png</td>\n",
              "      <td>blues</td>\n",
              "      <td>0.369613</td>\n",
              "      <td>blues</td>\n",
              "    </tr>\n",
              "    <tr>\n",
              "      <th>25</th>\n",
              "      <td>blues/blues227.png</td>\n",
              "      <td>blues</td>\n",
              "      <td>0.488743</td>\n",
              "      <td>blues</td>\n",
              "    </tr>\n",
              "    <tr>\n",
              "      <th>36</th>\n",
              "      <td>blues/blues286.png</td>\n",
              "      <td>blues</td>\n",
              "      <td>0.826118</td>\n",
              "      <td>blues</td>\n",
              "    </tr>\n",
              "    <tr>\n",
              "      <th>54</th>\n",
              "      <td>blues/blues358.png</td>\n",
              "      <td>blues</td>\n",
              "      <td>0.411567</td>\n",
              "      <td>blues</td>\n",
              "    </tr>\n",
              "    <tr>\n",
              "      <th>...</th>\n",
              "      <td>...</td>\n",
              "      <td>...</td>\n",
              "      <td>...</td>\n",
              "      <td>...</td>\n",
              "    </tr>\n",
              "    <tr>\n",
              "      <th>1760</th>\n",
              "      <td>rock/rock861.png</td>\n",
              "      <td>rock</td>\n",
              "      <td>0.939767</td>\n",
              "      <td>rock</td>\n",
              "    </tr>\n",
              "    <tr>\n",
              "      <th>1761</th>\n",
              "      <td>rock/rock863.png</td>\n",
              "      <td>rock</td>\n",
              "      <td>0.747791</td>\n",
              "      <td>rock</td>\n",
              "    </tr>\n",
              "    <tr>\n",
              "      <th>1765</th>\n",
              "      <td>rock/rock877.png</td>\n",
              "      <td>rock</td>\n",
              "      <td>0.765405</td>\n",
              "      <td>rock</td>\n",
              "    </tr>\n",
              "    <tr>\n",
              "      <th>1772</th>\n",
              "      <td>rock/rock900.png</td>\n",
              "      <td>rock</td>\n",
              "      <td>0.447979</td>\n",
              "      <td>rock</td>\n",
              "    </tr>\n",
              "    <tr>\n",
              "      <th>1775</th>\n",
              "      <td>rock/rock911.png</td>\n",
              "      <td>rock</td>\n",
              "      <td>0.834646</td>\n",
              "      <td>rock</td>\n",
              "    </tr>\n",
              "  </tbody>\n",
              "</table>\n",
              "<p>202 rows × 4 columns</p>\n",
              "</div>\n",
              "      <button class=\"colab-df-convert\" onclick=\"convertToInteractive('df-485f3fc0-d726-4678-bf54-9a76fdd14da7')\"\n",
              "              title=\"Convert this dataframe to an interactive table.\"\n",
              "              style=\"display:none;\">\n",
              "        \n",
              "  <svg xmlns=\"http://www.w3.org/2000/svg\" height=\"24px\"viewBox=\"0 0 24 24\"\n",
              "       width=\"24px\">\n",
              "    <path d=\"M0 0h24v24H0V0z\" fill=\"none\"/>\n",
              "    <path d=\"M18.56 5.44l.94 2.06.94-2.06 2.06-.94-2.06-.94-.94-2.06-.94 2.06-2.06.94zm-11 1L8.5 8.5l.94-2.06 2.06-.94-2.06-.94L8.5 2.5l-.94 2.06-2.06.94zm10 10l.94 2.06.94-2.06 2.06-.94-2.06-.94-.94-2.06-.94 2.06-2.06.94z\"/><path d=\"M17.41 7.96l-1.37-1.37c-.4-.4-.92-.59-1.43-.59-.52 0-1.04.2-1.43.59L10.3 9.45l-7.72 7.72c-.78.78-.78 2.05 0 2.83L4 21.41c.39.39.9.59 1.41.59.51 0 1.02-.2 1.41-.59l7.78-7.78 2.81-2.81c.8-.78.8-2.07 0-2.86zM5.41 20L4 18.59l7.72-7.72 1.47 1.35L5.41 20z\"/>\n",
              "  </svg>\n",
              "      </button>\n",
              "      \n",
              "  <style>\n",
              "    .colab-df-container {\n",
              "      display:flex;\n",
              "      flex-wrap:wrap;\n",
              "      gap: 12px;\n",
              "    }\n",
              "\n",
              "    .colab-df-convert {\n",
              "      background-color: #E8F0FE;\n",
              "      border: none;\n",
              "      border-radius: 50%;\n",
              "      cursor: pointer;\n",
              "      display: none;\n",
              "      fill: #1967D2;\n",
              "      height: 32px;\n",
              "      padding: 0 0 0 0;\n",
              "      width: 32px;\n",
              "    }\n",
              "\n",
              "    .colab-df-convert:hover {\n",
              "      background-color: #E2EBFA;\n",
              "      box-shadow: 0px 1px 2px rgba(60, 64, 67, 0.3), 0px 1px 3px 1px rgba(60, 64, 67, 0.15);\n",
              "      fill: #174EA6;\n",
              "    }\n",
              "\n",
              "    [theme=dark] .colab-df-convert {\n",
              "      background-color: #3B4455;\n",
              "      fill: #D2E3FC;\n",
              "    }\n",
              "\n",
              "    [theme=dark] .colab-df-convert:hover {\n",
              "      background-color: #434B5C;\n",
              "      box-shadow: 0px 1px 3px 1px rgba(0, 0, 0, 0.15);\n",
              "      filter: drop-shadow(0px 1px 2px rgba(0, 0, 0, 0.3));\n",
              "      fill: #FFFFFF;\n",
              "    }\n",
              "  </style>\n",
              "\n",
              "      <script>\n",
              "        const buttonEl =\n",
              "          document.querySelector('#df-485f3fc0-d726-4678-bf54-9a76fdd14da7 button.colab-df-convert');\n",
              "        buttonEl.style.display =\n",
              "          google.colab.kernel.accessAllowed ? 'block' : 'none';\n",
              "\n",
              "        async function convertToInteractive(key) {\n",
              "          const element = document.querySelector('#df-485f3fc0-d726-4678-bf54-9a76fdd14da7');\n",
              "          const dataTable =\n",
              "            await google.colab.kernel.invokeFunction('convertToInteractive',\n",
              "                                                     [key], {});\n",
              "          if (!dataTable) return;\n",
              "\n",
              "          const docLinkHtml = 'Like what you see? Visit the ' +\n",
              "            '<a target=\"_blank\" href=https://colab.research.google.com/notebooks/data_table.ipynb>data table notebook</a>'\n",
              "            + ' to learn more about interactive tables.';\n",
              "          element.innerHTML = '';\n",
              "          dataTable['output_type'] = 'display_data';\n",
              "          await google.colab.output.renderOutput(dataTable, element);\n",
              "          const docLink = document.createElement('div');\n",
              "          docLink.innerHTML = docLinkHtml;\n",
              "          element.appendChild(docLink);\n",
              "        }\n",
              "      </script>\n",
              "    </div>\n",
              "  </div>\n",
              "  "
            ]
          },
          "metadata": {},
          "execution_count": 26
        }
      ],
      "source": [
        "prediction_df[prediction_df[\"Predicted_Label\"]==prediction_df[\"Labels_original\"]]"
      ]
    },
    {
      "cell_type": "markdown",
      "metadata": {
        "id": "WhStq60Bm2Ot"
      },
      "source": [
        "### Results:\n",
        "\n",
        "- The training loss decreases quite smoothly after each iteration where as the validation loss decreases sharply but then the decrease is lesser\n",
        "- The accuracy score is used as a metric to evaluate the algorithm\n",
        "- The training accuracy of 99.9% is achieved at the end of last iteration (40th epoch).\n",
        "- The corresponding validation accuracy is 71.13%\n",
        "- The model performs better on augmented data than the original version and the accuracy for test data is 71.57%\n",
        "\n",
        "### Conclusion: \n",
        "\n",
        "It was necessary to augment the data to achieve better performance. Mel spectrograms are a useful feature of music genre classification."
      ]
    }
  ],
  "metadata": {
    "accelerator": "GPU",
    "colab": {
      "collapsed_sections": [],
      "name": "CNNMusicGenreClassificationAugmented.ipynb",
      "provenance": [],
      "include_colab_link": true
    },
    "kernelspec": {
      "display_name": "Python 3",
      "name": "python3"
    }
  },
  "nbformat": 4,
  "nbformat_minor": 0
}