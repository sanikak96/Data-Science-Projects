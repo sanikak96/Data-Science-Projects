{
 "cells": [
  {
   "cell_type": "markdown",
   "id": "6ec30c1a-7551-4269-ab0e-1a824a764c03",
   "metadata": {
    "tags": [],
    "toc-hr-collapsed": true
   },
   "source": [
    "## Air Pollution Forecasting - Part 2: Forecasting using Prophet\n",
    "\n",
    "Prophet is basically a machine learning model that has been developed by Facebook for time series analysis. Prophet can be used for univariate and multivariate time series analysis. It is very similar to sklearn models in terms of coding. We can just use the *fit()* and *predict()* functions after creating an instance of Prophet class. \n",
    "\n",
    "The input to prophet model is a dataframe with two columns: `ds` (date) and`y` (numeric target). For multivariate problems, along with this we add additional features using the *add_regressor()* function.\n",
    "\n",
    "Prophet basically decomposes time series into its trend, seasonality, effect of holidays and residuals, and then creates an additive model that looks sums up all these components as shown below.\n",
    "\n",
    "![Prophet Equaltion](https://hands-on.cloud/wp-content/uploads/2022/05/implementation-of-facebook-prophet-algorithm-equation.png?ezimgfmt=ng:webp/ngcb1)\n",
    "\n",
    "\n",
    "**Drawbacks of Traditional Time Series Methods:**\n",
    "- Cannot handle trend and seasonality well and data needs to be preprocessed before passing to the model\n",
    "- Parameter tuning needs experts\n",
    "- NA values are not handled\n",
    "- Data needs to be at the same frequency\n",
    "\n",
    "**Prophet Advantages:**\n",
    "- A machine learning approach\n",
    "- Easier to implement and tune\n",
    "- Handles data with seasonality, trend and outliers\n",
    "- Works best when there is a lot of historical data to train on\n",
    "\n",
    "It also provides a function *make_future_dataframe()* to create a data frame with future dates and use it to predict the target values of univariate time series. However, we wont be using it for this project because we have divided the data into train and test for better interpretation.\n",
    "\n",
    "**Flow of modelling using prophet:**\n",
    "- Install and Import prophet\n",
    "- Convert the date column to 'datetime' datatype\n",
    "- Split the data into train and test sets\n",
    "- Rename the date column to ds and target variable, pollution, to y\n",
    "- Create a prophet models by assigning parameter values\n",
    "- Fit your data and predict using the test data\n",
    "- Compare the predictions\n",
    "\n",
    "**References for prophet:**\n",
    "- **[Facebook Research Blog](https://research.facebook.com/blog/2017/02/prophet-forecasting-at-scale/)**\n",
    "- **[Prophet Documentation](https://facebook.github.io/prophet/)**\n",
    "\n",
    "#### Importing the necessary Libraries"
   ]
  },
  {
   "cell_type": "code",
   "execution_count": null,
   "id": "907f5764-af3c-4640-9252-d75ccae841c5",
   "metadata": {},
   "outputs": [],
   "source": [
    "# Libraries for reading the data and preprocessing\n",
    "import pandas as pd\n",
    "import numpy as np\n",
    "import matplotlib.pyplot as plt\n",
    "import seaborn as sns\n",
    "\n",
    "# ML Model\n",
    "from prophet import Prophet\n",
    "\n",
    "# pep8 formatting\n",
    "import jupyter_black\n",
    "\n",
    "jupyter_black.load()\n",
    "\n",
    "import warnings\n",
    "warnings.filterwarnings(\"ignore\")"
   ]
  },
  {
   "cell_type": "markdown",
   "id": "2851963d-b933-49a3-a289-3a0ec793cc0c",
   "metadata": {},
   "source": [
    "#### Read the data and plot correlation matrix"
   ]
  },
  {
   "cell_type": "code",
   "execution_count": null,
   "id": "7c6de739-7db4-492f-a9a2-4c5d785a5bae",
   "metadata": {},
   "outputs": [],
   "source": [
    "air_quality_data = pd.read_csv(\"data/air_quality_data.csv\")\n",
    "\n",
    "corr = air_quality_data.corr()\n",
    "\n",
    "# Create a mask\n",
    "mask = np.triu(np.ones_like(corr, dtype=bool))\n",
    "\n",
    "# Create a custom divergin palette\n",
    "cmap = sns.diverging_palette(100, 7, s=75, l=40, n=5, center=\"light\", as_cmap=True)\n",
    "\n",
    "plt.figure(figsize=(12, 10))\n",
    "sns.heatmap(corr, mask=mask, center=0, annot=True, fmt=\".2f\", square=True, cmap=cmap)\n",
    "plt.show();"
   ]
  },
  {
   "cell_type": "markdown",
   "id": "06d03b9d-86df-4a29-a5e8-045a943dc326",
   "metadata": {},
   "source": [
    "#### Convert date to datetime and split the data into train and test sets\n",
    "- The test data contains values for the last 24 hours i.e. one day\n",
    "- The model will be trained on rest of the data"
   ]
  },
  {
   "cell_type": "code",
   "execution_count": null,
   "id": "525a1e3f-47c7-4ab1-858c-17282863f4fb",
   "metadata": {},
   "outputs": [],
   "source": [
    "air_quality_data[\"date\"] = pd.to_datetime(\n",
    "    air_quality_data.date, infer_datetime_format=\"True\"\n",
    ")\n",
    "split_date = pd.datetime(2014, 12, 31)\n",
    "train = air_quality_data.loc[air_quality_data.date < split_date]\n",
    "valid = air_quality_data.loc[air_quality_data.date >= split_date]\n",
    "\n",
    "air_quality_data.columns"
   ]
  },
  {
   "cell_type": "markdown",
   "id": "1e412d49-1353-4bfb-b287-86d1ff6bb42c",
   "metadata": {
    "toc-hr-collapsed": true
   },
   "source": [
    "### Creating a Prophet Model - Using combination of features and lags\n",
    "\n",
    "#### 1. Picking features and modifying the train and test data"
   ]
  },
  {
   "cell_type": "code",
   "execution_count": null,
   "id": "87537695-87df-4019-9cd7-5bfda2a95e33",
   "metadata": {},
   "outputs": [],
   "source": [
    "train_1 = train.drop(\n",
    "    [\"month\", \"quarter\", \"day\", \"hour\", \"wnd_dir_NE\", \"wnd_dir_SE\"],\n",
    "    axis=1,\n",
    ")\n",
    "\n",
    "valid_1 = valid.drop(\n",
    "    [\"month\", \"quarter\", \"day\", \"hour\", \"wnd_dir_NE\", \"wnd_dir_SE\"],\n",
    "    axis=1,\n",
    ")\n",
    "\n",
    "# The prophet model needs date to be set as 'ds' and target as 'y'\n",
    "train_1.rename(columns={\"date\": \"ds\", \"pollution\": \"y\"}, inplace=True)\n",
    "valid_1.rename(columns={\"date\": \"ds\", \"pollution\": \"y\"}, inplace=True)"
   ]
  },
  {
   "cell_type": "markdown",
   "id": "32adaf99-1a11-4a76-ae92-168df3f52b5f",
   "metadata": {},
   "source": [
    "#### 2. Creating a model, fitting and predicting"
   ]
  },
  {
   "cell_type": "code",
   "execution_count": null,
   "id": "47fc56f8-1129-4de3-a57c-42ff764bf1e9",
   "metadata": {
    "tags": []
   },
   "outputs": [],
   "source": [
    "model1 = Prophet(\n",
    "    yearly_seasonality=True,\n",
    "    weekly_seasonality=True,\n",
    "    changepoint_prior_scale=0.001,\n",
    ")\n",
    "model1.add_regressor(\"dew\")\n",
    "model1.add_regressor(\"temp\")\n",
    "model1.add_regressor(\"press\")\n",
    "model1.add_regressor(\"wnd_spd\")\n",
    "model1.add_regressor(\"snow\")\n",
    "model1.add_regressor(\"rain\")\n",
    "model1.add_regressor(\"year\")\n",
    "model1.add_regressor(\"Lag1_pollution\")\n",
    "model1.add_regressor(\"Daily_Avg_Pollution\")\n",
    "model1.add_regressor(\"Lag1_daily_avg_pollution\")\n",
    "model1.add_regressor(\"wnd_dir_NW\")\n",
    "model1.add_regressor(\"wnd_dir_cv\")\n",
    "\n",
    "# Fitting the model\n",
    "model1.fit(train_1)\n",
    "\n",
    "# predicting the outputs\n",
    "forecast_multi_1 = model1.predict(valid_1.drop(columns=\"y\"))"
   ]
  },
  {
   "cell_type": "markdown",
   "id": "6d7456a1-2ca1-4789-8033-9099bdb75f2e",
   "metadata": {},
   "source": [
    "#### 3. Visualizing the outputs"
   ]
  },
  {
   "cell_type": "code",
   "execution_count": null,
   "id": "f9458e3d-0a0c-44c1-a725-14c6f39a6302",
   "metadata": {},
   "outputs": [],
   "source": [
    "valid_1 = valid_1.set_index(\"ds\")\n",
    "forecast_multi_1 = forecast_multi_1.set_index(\"ds\")\n",
    "\n",
    "plt.figure(figsize=(10, 5))\n",
    "plt.ylabel(\"pm2.5\")\n",
    "plt.xlabel(\"date\")\n",
    "plt.plot(valid_1.y, c=\"lightgreen\", label=\"Actual Pollution\", linewidth=2.5)\n",
    "plt.plot(forecast_multi_1.yhat, c=\"darkblue\", label=\"Predicted pollution\")\n",
    "plt.title(\"Comparison graph\")\n",
    "plt.legend()\n",
    "plt.show()"
   ]
  },
  {
   "cell_type": "markdown",
   "id": "0c2e05e9-afa7-4b0e-a564-084808740cb8",
   "metadata": {},
   "source": [
    "#### 4. Creating a dataframe with actual and predicted values"
   ]
  },
  {
   "cell_type": "code",
   "execution_count": null,
   "id": "420acae5-2e83-4660-b87a-66643adb3ff9",
   "metadata": {},
   "outputs": [],
   "source": [
    "def create_comparison_df(valid, forecast):\n",
    "    pollution = valid.y.values\n",
    "    predicted_pollution = forecast.yhat.values\n",
    "    zipped = list(zip(pollution, predicted_pollution))\n",
    "    columns = [\"Pollution\", \"Predicted_Pollution\"]\n",
    "    df = pd.DataFrame(zipped, columns=columns)\n",
    "    return df"
   ]
  },
  {
   "cell_type": "code",
   "execution_count": null,
   "id": "5e842eb7-a1eb-49a6-acde-e66cd0ceaac3",
   "metadata": {},
   "outputs": [],
   "source": [
    "df_model1 = create_comparison_df(valid=valid_1, forecast=forecast_multi_1)\n",
    "df_model1"
   ]
  },
  {
   "cell_type": "markdown",
   "id": "6725c5b9-5409-4513-beb6-e62aa6bc83a5",
   "metadata": {
    "toc-hr-collapsed": true
   },
   "source": [
    "### Model with only pollution based features"
   ]
  },
  {
   "cell_type": "markdown",
   "id": "18a6f77c-a95a-47b7-b713-9e665df37668",
   "metadata": {},
   "source": [
    "#### 1. Creating a model"
   ]
  },
  {
   "cell_type": "code",
   "execution_count": null,
   "id": "7f84b426-58e9-48da-83f4-8d9fca29de15",
   "metadata": {},
   "outputs": [],
   "source": [
    "model2 = Prophet(\n",
    "    yearly_seasonality=True,\n",
    "    weekly_seasonality=True,\n",
    "    changepoint_prior_scale=0.001,\n",
    ")\n",
    "model2.add_regressor(\"Lag1_pollution\")\n",
    "model2.add_regressor(\"Daily_Avg_Pollution\")\n",
    "model2.add_regressor(\"Lag1_daily_avg_pollution\")"
   ]
  },
  {
   "cell_type": "code",
   "execution_count": null,
   "id": "fdd8e2a2-2e05-4948-989f-4616c9691b1f",
   "metadata": {},
   "outputs": [],
   "source": [
    "train_2 = train[\n",
    "    [\n",
    "        \"date\",\n",
    "        \"pollution\",\n",
    "        \"Lag1_pollution\",\n",
    "        \"Daily_Avg_Pollution\",\n",
    "        \"Lag1_daily_avg_pollution\",\n",
    "    ]\n",
    "]\n",
    "train_2.rename(columns={\"date\": \"ds\", \"pollution\": \"y\"}, inplace=True)\n",
    "\n",
    "valid_2 = valid[\n",
    "    [\n",
    "        \"date\",\n",
    "        \"pollution\",\n",
    "        \"Lag1_pollution\",\n",
    "        \"Daily_Avg_Pollution\",\n",
    "        \"Lag1_daily_avg_pollution\",\n",
    "    ]\n",
    "]\n",
    "valid_2.rename(columns={\"date\": \"ds\", \"pollution\": \"y\"}, inplace=True)"
   ]
  },
  {
   "cell_type": "markdown",
   "id": "ba5b2de9-46db-496a-89a2-eb60df48981e",
   "metadata": {},
   "source": [
    "#### 2. Training and predicting"
   ]
  },
  {
   "cell_type": "code",
   "execution_count": null,
   "id": "9ab9c95e-3e83-451e-a492-d2d48c3964b3",
   "metadata": {
    "tags": []
   },
   "outputs": [],
   "source": [
    "model2.fit(train_2)\n",
    "forecast_multi_2 = model2.predict(valid_2.drop(columns=\"y\"))\n",
    "valid_2 = valid_2.set_index(\"ds\")\n",
    "forecast_multi_2 = forecast_multi_2.set_index(\"ds\")"
   ]
  },
  {
   "cell_type": "markdown",
   "id": "d3de91ab-3bb8-4b98-92d3-d49e7d73c71b",
   "metadata": {},
   "source": [
    "#### 3. Visualizing the outputs"
   ]
  },
  {
   "cell_type": "code",
   "execution_count": null,
   "id": "fc36672b-dc95-49ae-b46d-ac6d2f64cdd3",
   "metadata": {},
   "outputs": [],
   "source": [
    "plt.figure(figsize=(10, 5))\n",
    "plt.ylabel(\"pm2.5\")\n",
    "plt.xlabel(\"date\")\n",
    "plt.plot(valid_2.y, c=\"lightgreen\", label=\"Actual Pollution\", linewidth=2.5)\n",
    "plt.plot(forecast_multi_2.yhat, c=\"darkblue\", label=\"Predicted Pollution\")\n",
    "plt.title(\"Comparison graph\")\n",
    "plt.legend()\n",
    "plt.show()"
   ]
  },
  {
   "cell_type": "markdown",
   "id": "e60b499a-7a15-4a9e-bbc0-443005550581",
   "metadata": {},
   "source": [
    "#### 4. Creating a dataframe with actual and predicted values"
   ]
  },
  {
   "cell_type": "code",
   "execution_count": null,
   "id": "7925ff28-5bee-4220-a6a6-4b244d2dbc01",
   "metadata": {},
   "outputs": [],
   "source": [
    "df_model2 = create_comparison_df(valid=valid_2, forecast=forecast_multi_2)\n",
    "df_model2"
   ]
  },
  {
   "cell_type": "markdown",
   "id": "fd8fd15f-d1fe-4217-80de-fdbd9171eb00",
   "metadata": {},
   "source": [
    "### Diagnostics\n",
    "\n",
    "The MSE of models can be used to compare the performance. Both the models seem to work well. The model 2 works slightly better than model 1."
   ]
  },
  {
   "cell_type": "code",
   "execution_count": null,
   "id": "00a86ac3-6c8e-4976-bbd5-47a76e6f5f9a",
   "metadata": {},
   "outputs": [],
   "source": [
    "def diagnostics(pred, valid):\n",
    "    mse = np.mean(np.square(pred[\"yhat\"] - valid[\"y\"]))\n",
    "    rmse = np.sqrt(mse)\n",
    "    print(\"The RMSE is: \", rmse)\n",
    "    mae = np.mean(np.abs(pred[\"yhat\"] - valid[\"y\"]))\n",
    "    print(\"The MAE is: \", mae)"
   ]
  },
  {
   "cell_type": "code",
   "execution_count": null,
   "id": "92b0c3d8-14be-4a77-98f0-83a5d377377a",
   "metadata": {},
   "outputs": [],
   "source": [
    "diagnostics(pred=forecast_multi_1, valid=valid_1)"
   ]
  },
  {
   "cell_type": "code",
   "execution_count": null,
   "id": "6ad6e465-e515-4149-98e2-b756536d7baf",
   "metadata": {},
   "outputs": [],
   "source": [
    "diagnostics(pred=forecast_multi_2, valid=valid_2)"
   ]
  },
  {
   "cell_type": "markdown",
   "id": "2a202a98-0293-4f57-904b-5bc5aedcadd6",
   "metadata": {},
   "source": [
    "### Mean pollution for the day compared with the mean predicted pollution\n",
    "The average prediction for the day is very close to the actual average for the model with less features."
   ]
  },
  {
   "cell_type": "code",
   "execution_count": null,
   "id": "a84f82b5-2aa3-4ae9-89db-c33bf38c9c7f",
   "metadata": {},
   "outputs": [],
   "source": [
    "df_model1.Pollution.mean(), df_model1.Predicted_Pollution.mean()"
   ]
  },
  {
   "cell_type": "code",
   "execution_count": null,
   "id": "5404acc4-6e4a-4395-b2cc-fd1042520424",
   "metadata": {},
   "outputs": [],
   "source": [
    "df_model2.Pollution.mean(), df_model2.Predicted_Pollution.mean()"
   ]
  },
  {
   "cell_type": "markdown",
   "id": "b38e08f0-abec-43f0-a1da-8add2979dae3",
   "metadata": {},
   "source": [
    "### Predicting for a different day"
   ]
  },
  {
   "cell_type": "code",
   "execution_count": null,
   "id": "eba1ae3d-373c-487f-bdd7-79ff3cb0e310",
   "metadata": {
    "tags": []
   },
   "outputs": [],
   "source": [
    "split_date = pd.datetime(2014, 12, 2)\n",
    "train1 = air_quality_data.loc[air_quality_data.date < split_date]\n",
    "valid1 = air_quality_data[\n",
    "    (air_quality_data.day == 12)\n",
    "    & (air_quality_data.month == 2)\n",
    "    & (air_quality_data.year == 2014)\n",
    "]\n",
    "\n",
    "train_3 = train1[\n",
    "    [\n",
    "        \"date\",\n",
    "        \"pollution\",\n",
    "        \"Lag1_pollution\",\n",
    "        \"Daily_Avg_Pollution\",\n",
    "        \"Lag1_daily_avg_pollution\",\n",
    "    ]\n",
    "]\n",
    "train_3.rename(columns={\"date\": \"ds\", \"pollution\": \"y\"}, inplace=True)\n",
    "\n",
    "valid_3 = valid1[\n",
    "    [\n",
    "        \"date\",\n",
    "        \"pollution\",\n",
    "        \"Lag1_pollution\",\n",
    "        \"Daily_Avg_Pollution\",\n",
    "        \"Lag1_daily_avg_pollution\",\n",
    "    ]\n",
    "]\n",
    "valid_3.rename(columns={\"date\": \"ds\", \"pollution\": \"y\"}, inplace=True)\n",
    "\n",
    "model3 = Prophet(\n",
    "    yearly_seasonality=True,\n",
    "    weekly_seasonality=True,\n",
    "    changepoint_prior_scale=0.001,\n",
    ")\n",
    "\n",
    "model3.add_regressor(\"Lag1_pollution\")\n",
    "model3.add_regressor(\"Daily_Avg_Pollution\")\n",
    "model3.add_regressor(\"Lag1_daily_avg_pollution\")\n",
    "\n",
    "model3.fit(train_3)\n",
    "forecast_multi_3 = model3.predict(valid_3.drop(columns=\"y\"))\n",
    "valid_3 = valid_3.set_index(\"ds\")\n",
    "forecast_multi_3 = forecast_multi_3.set_index(\"ds\")"
   ]
  },
  {
   "cell_type": "code",
   "execution_count": null,
   "id": "a30d8fbd-49cd-4cb8-afff-6827b0b1130f",
   "metadata": {
    "tags": []
   },
   "outputs": [],
   "source": [
    "plt.figure(figsize=(10, 5))\n",
    "plt.ylabel(\"pm2.5\")\n",
    "plt.xlabel(\"date\")\n",
    "plt.plot(valid_3.y, c=\"lightgreen\", label=\"Actual Pollution\", linewidth=2.5)\n",
    "plt.plot(forecast_multi_3.yhat, c=\"darkblue\", label=\"Predicted Pollution\")\n",
    "plt.title(\"Comparison graph for 12th Feb 2014\")\n",
    "plt.legend()\n",
    "plt.show()"
   ]
  },
  {
   "cell_type": "code",
   "execution_count": null,
   "id": "2d05ab29-2a41-492d-b5ad-a3a1f7fa01f4",
   "metadata": {},
   "outputs": [],
   "source": [
    "df_model3 = create_comparison_df(valid=valid_3, forecast=forecast_multi_3)\n",
    "df_model3.Pollution.mean(), df_model3.Predicted_Pollution.mean()"
   ]
  },
  {
   "cell_type": "markdown",
   "id": "fbca3651-5f5c-41e0-9bab-7d28ee7a4039",
   "metadata": {},
   "source": [
    "### Conclusion\n",
    "- Prophet works well for this dataset because we have a lot of historical data and seasonal variations.\n",
    "- Both the models perform equally well, in fact, the model with lesser features perform slightly better when considered average pollution per day."
   ]
  }
 ],
 "metadata": {
  "kernelspec": {
   "display_name": "Python 3 (ipykernel)",
   "language": "python",
   "name": "python3"
  },
  "language_info": {
   "codemirror_mode": {
    "name": "ipython",
    "version": 3
   },
   "file_extension": ".py",
   "mimetype": "text/x-python",
   "name": "python",
   "nbconvert_exporter": "python",
   "pygments_lexer": "ipython3",
   "version": "3.9.12"
  },
  "toc-showcode": false
 },
 "nbformat": 4,
 "nbformat_minor": 5
}
