{
  "cells": [
    {
      "cell_type": "markdown",
      "metadata": {
        "id": "view-in-github",
        "colab_type": "text"
      },
      "source": [
        "<a href=\"https://colab.research.google.com/github/sanikak96/Data-Science-Projects/blob/master/LSTMMusicGenreClassificationUsingMFCC.ipynb\" target=\"_parent\"><img src=\"https://colab.research.google.com/assets/colab-badge.svg\" alt=\"Open In Colab\"/></a>"
      ]
    },
    {
      "cell_type": "markdown",
      "metadata": {
        "id": "vy4pIvhC6Waz"
      },
      "source": [
        "### Experimennt 4: Music Genre Classification using MFCCs - LSTM\n",
        "I have implemented a Long Short Term Memory(LSTM), which is a bit more complex than simple RNN for music genre classification. The GTZAN music dataset is used to train the model and the Librosa library to extract audio features, i.e. the Melfrequency cepstral coefficients (MFCC), from the raw data. The extracted features are input to the Long Short Term Memory (LSTM) neural network model for training. The LSTM are built with Keras and Tensorflow."
      ]
    },
    {
      "cell_type": "markdown",
      "metadata": {
        "id": "AXV279l1AVj_"
      },
      "source": [
        "### Importing the necessary Libraries"
      ]
    },
    {
      "cell_type": "code",
      "execution_count": null,
      "metadata": {
        "id": "VAFfJ8MT6Wa4"
      },
      "outputs": [],
      "source": [
        "import os\n",
        "import json\n",
        "import numpy as np\n",
        "import librosa\n",
        "import matplotlib.pyplot as plt\n",
        "from sklearn.model_selection import train_test_split\n",
        "import tensorflow as tf\n",
        "from keras.models import load_model"
      ]
    },
    {
      "cell_type": "markdown",
      "metadata": {
        "id": "NMqh_gy6Aabw"
      },
      "source": [
        "### Downloading the dataset\n",
        "\n",
        "Note: Upload the kaggle.json file before execution."
      ]
    },
    {
      "cell_type": "code",
      "execution_count": null,
      "metadata": {
        "id": "sZuytcXV6dSR"
      },
      "outputs": [],
      "source": [
        "! pip install kaggle\n",
        "! mkdir ~/.kaggle\n",
        "! cp kaggle.json ~/.kaggle/  #kaggle.json is my API key. \n",
        "! chmod 600 ~/.kaggle/kaggle.json\n",
        "!kaggle datasets download andradaolteanu/gtzan-dataset-music-genre-classification\n",
        "!unzip gtzan-dataset-music-genre-classification\n",
        "!rm -r gtzan-dataset-music-genre-classification.zip"
      ]
    },
    {
      "cell_type": "code",
      "execution_count": null,
      "metadata": {
        "id": "jMQzK9iX8KbJ"
      },
      "outputs": [],
      "source": [
        "# Remove corrupt file\n",
        "os.remove('Data/genres_original/jazz/jazz.00054.wav')"
      ]
    },
    {
      "cell_type": "markdown",
      "metadata": {
        "id": "65haTf_rAnrb"
      },
      "source": [
        "### Creating Dataset with Audio and MFCC\n",
        "I am going to continue using the augmented audio files by chopping the original audio files into slices. However, since not all audio files are exactly 30 sec long, I am picking a duration of 29 seconds."
      ]
    },
    {
      "cell_type": "code",
      "execution_count": null,
      "metadata": {
        "id": "9zSKXcky6Wa5"
      },
      "outputs": [],
      "source": [
        "# Dataset location if the kaggle download is run\n",
        "data_path = 'Data/genres_original/'\n",
        "\n",
        "# Path where we wish to store the data after feature extraction\n",
        "result_path = 'Data/data.json'\n",
        "\n",
        "# As per my previous choice, I am pick a duration right under 30 seconds\n",
        "sr = 22050\n",
        "num_samples = 29 * sr\n",
        "\n",
        "# Since the dataset contains 999 files, data augmentation is necessary.  \n",
        "# Slicing the audio files:\n",
        "slices = 10\n",
        "samples_per_slice = int(num_samples / slices)"
      ]
    },
    {
      "cell_type": "code",
      "execution_count": null,
      "metadata": {
        "id": "qyXzvaqK6Wa6"
      },
      "outputs": [],
      "source": [
        "def preprocess_data(data_path, result_path):\n",
        "\n",
        "    # Let's create a dictionary of labels and processed data.\n",
        "    feature_labels = {\n",
        "        \"labels\": [],\n",
        "        \"mfcc\": []\n",
        "        }\n",
        "\n",
        "    # Generating MFCCs for each audio sample after slicing it\n",
        "    for i, (dirpath, dirnames, filenames) in enumerate(os.walk(data_path)):\n",
        "\n",
        "        for file in filenames:\n",
        "            song, sr = librosa.load(os.path.join(dirpath, file), duration=29)\n",
        "\n",
        "            for s in range(slices):\n",
        "                start_sample = samples_per_slice * s\n",
        "                end_sample = start_sample + samples_per_slice\n",
        "                mfcc = librosa.feature.mfcc(y=song[start_sample:end_sample], sr=sr, n_mfcc=13) #13 bands MFCCs\n",
        "                mfcc = mfcc.T\n",
        "                feature_labels[\"labels\"].append(i-1)\n",
        "                feature_labels[\"mfcc\"].append(mfcc.tolist())\n",
        "\n",
        "    # Saving the data to a .json file for future use.    \n",
        "    with open(result_path, 'w') as f:\n",
        "        json.dump(feature_labels, f)\n",
        "    f.close()"
      ]
    },
    {
      "cell_type": "code",
      "execution_count": null,
      "metadata": {
        "id": "FBQ4ilnU6Wa8"
      },
      "outputs": [],
      "source": [
        "def load_data(result_path):\n",
        "\n",
        "    with open(result_path, 'r') as f:\n",
        "        data = json.load(f)\n",
        "    f.close()\n",
        "    X = np.array(data[\"mfcc\"])\n",
        "    y = np.array(data[\"labels\"])\n",
        "    print(X.shape)\n",
        "\n",
        "    return X, y"
      ]
    },
    {
      "cell_type": "code",
      "execution_count": null,
      "metadata": {
        "id": "PC4xWk-X6Wa8"
      },
      "outputs": [],
      "source": [
        "def prepare_datasets(X, y, split_size):\n",
        "    \n",
        "    # Creating a validation set and a test set.\n",
        "    X_train, X_val, y_train, y_val = train_test_split(X, y, test_size=split_size,random_state=0)\n",
        "    X_train, X_test, y_train, y_test = train_test_split(X_train, y_train, test_size=split_size,random_state=0)\n",
        "    \n",
        "    return X_train, X_val, X_test, y_train, y_val, y_test"
      ]
    },
    {
      "cell_type": "code",
      "execution_count": null,
      "metadata": {
        "id": "m82AIp3m6Wa9"
      },
      "outputs": [],
      "source": [
        "def genre_model(input_shape):\n",
        "    model = tf.keras.models.Sequential([\n",
        "        tf.keras.layers.LSTM(64, input_shape= input_shape, return_sequences=True),\n",
        "        tf.keras.layers.LSTM(64),\n",
        "        \n",
        "        tf.keras.layers.Dense(64, activation='relu'), \n",
        "        tf.keras.layers.Dropout(0.3),\n",
        "\n",
        "\n",
        "        tf.keras.layers.Dense(len(np.unique(targets)), activation='softmax')\n",
        "    ])\n",
        "\n",
        "    return model"
      ]
    },
    {
      "cell_type": "code",
      "execution_count": null,
      "metadata": {
        "id": "P0e7_h6G6Wa-"
      },
      "outputs": [],
      "source": [
        "def make_prediction(model, X, y, idx):\n",
        "    \n",
        "    genre_dict = {\n",
        "        0 : \"blues\",\n",
        "        1 : \"classical\",\n",
        "        2 : \"country\",\n",
        "        3 : \"disco\",\n",
        "        4 : \"hiphop\",\n",
        "        5 : \"jazz\",\n",
        "        6 : \"metal\",\n",
        "        7 : \"pop\",\n",
        "        8 : \"reggae\",\n",
        "        9 : \"rock\"\n",
        "        }\n",
        "        \n",
        "    predictions = model.predict(X)\n",
        "    genre = np.argmax(predictions[idx])\n",
        "    \n",
        "    print(\"The model predicts: {}, and ground truth is: {}.\\n\".format(genre_dict[genre], genre_dict[y[idx]]))"
      ]
    },
    {
      "cell_type": "code",
      "execution_count": null,
      "metadata": {
        "id": "qyFx__016Wa-"
      },
      "outputs": [],
      "source": [
        "def plot_performance(hist):\n",
        "    \n",
        "    acc = hist.history['acc']\n",
        "    val_acc = hist.history['val_acc']\n",
        "    loss = hist.history['loss']\n",
        "    val_loss = hist.history['val_loss']\n",
        "\n",
        "    epochs = range(len(acc))\n",
        "\n",
        "    plt.plot(epochs, acc, 'r', label='Training accuracy')\n",
        "    plt.plot(epochs, val_acc, 'b', label='Validation accuracy')\n",
        "    plt.title('Training and validation accuracy')\n",
        "    plt.legend()\n",
        "    plt.figure()\n",
        "\n",
        "    plt.plot(epochs, loss, 'r', label='Training Loss')\n",
        "    plt.plot(epochs, val_loss, 'b', label='Validation Loss')\n",
        "    plt.title('Training and validation loss')\n",
        "    plt.legend()\n",
        "\n",
        "    plt.show()"
      ]
    },
    {
      "cell_type": "code",
      "execution_count": null,
      "metadata": {
        "colab": {
          "background_save": true
        },
        "id": "oIVhQS5P7DJ6",
        "outputId": "a57697dd-eceb-422a-97b5-e12996b9b09d"
      },
      "outputs": [
        {
          "name": "stdout",
          "output_type": "stream",
          "text": [
            "(9990, 125, 13)\n"
          ]
        }
      ],
      "source": [
        "preprocess_data(data_path, result_path)\n",
        "inputs, targets = load_data(result_path)"
      ]
    },
    {
      "cell_type": "code",
      "execution_count": null,
      "metadata": {
        "colab": {
          "background_save": true
        },
        "id": "M2yKjc0E7UTM"
      },
      "outputs": [],
      "source": [
        "X_train, X_val, X_test, y_train, y_val, y_test = prepare_datasets(inputs, targets, 0.2)\n",
        "input_shape = (X_train.shape[1], X_train.shape[2])"
      ]
    },
    {
      "cell_type": "code",
      "execution_count": null,
      "metadata": {
        "colab": {
          "background_save": true
        },
        "id": "HSwhk35T7UZU"
      },
      "outputs": [],
      "source": [
        "model = genre_model(input_shape)"
      ]
    },
    {
      "cell_type": "markdown",
      "source": [
        "### Compling and Fitting the LSTM Model"
      ],
      "metadata": {
        "id": "7a6JYCHhLIG8"
      }
    },
    {
      "cell_type": "code",
      "execution_count": null,
      "metadata": {
        "colab": {
          "background_save": true
        },
        "id": "_G3LlF5Z7GKL",
        "outputId": "64b18b1b-6a3c-4733-b443-f84392579bd6"
      },
      "outputs": [
        {
          "name": "stdout",
          "output_type": "stream",
          "text": [
            "Model: \"sequential_1\"\n",
            "_________________________________________________________________\n",
            " Layer (type)                Output Shape              Param #   \n",
            "=================================================================\n",
            " lstm_2 (LSTM)               (None, 125, 64)           19968     \n",
            "                                                                 \n",
            " lstm_3 (LSTM)               (None, 64)                33024     \n",
            "                                                                 \n",
            " dense_2 (Dense)             (None, 64)                4160      \n",
            "                                                                 \n",
            " dropout_1 (Dropout)         (None, 64)                0         \n",
            "                                                                 \n",
            " dense_3 (Dense)             (None, 10)                650       \n",
            "                                                                 \n",
            "=================================================================\n",
            "Total params: 57,802\n",
            "Trainable params: 57,802\n",
            "Non-trainable params: 0\n",
            "_________________________________________________________________\n"
          ]
        },
        {
          "name": "stderr",
          "output_type": "stream",
          "text": [
            "/usr/local/lib/python3.7/dist-packages/keras/optimizer_v2/rmsprop.py:130: UserWarning: The `lr` argument is deprecated, use `learning_rate` instead.\n",
            "  super(RMSprop, self).__init__(name, **kwargs)\n"
          ]
        }
      ],
      "source": [
        "model.compile(optimizer = tf.keras.optimizers.RMSprop(lr=0.001),\n",
        "                     loss='sparse_categorical_crossentropy',\n",
        "                     metrics = ['acc'] )\n",
        "\n",
        "model.summary()\n"
      ]
    },
    {
      "cell_type": "code",
      "execution_count": 62,
      "metadata": {
        "id": "Y5sjK35O6Wa_",
        "colab": {
          "base_uri": "https://localhost:8080/"
        },
        "outputId": "90d2aed9-c489-46bb-ac0e-1e555a21927e"
      },
      "outputs": [
        {
          "output_type": "stream",
          "name": "stdout",
          "text": [
            "Epoch 1/30\n",
            "200/200 [==============================] - 17s 66ms/step - loss: 1.7695 - acc: 0.3609 - val_loss: 1.4754 - val_acc: 0.4755\n",
            "Epoch 2/30\n",
            "200/200 [==============================] - 12s 61ms/step - loss: 1.4311 - acc: 0.4869 - val_loss: 1.3088 - val_acc: 0.5425\n",
            "Epoch 3/30\n",
            "200/200 [==============================] - 12s 61ms/step - loss: 1.3102 - acc: 0.5348 - val_loss: 1.2785 - val_acc: 0.5521\n",
            "Epoch 4/30\n",
            "200/200 [==============================] - 12s 61ms/step - loss: 1.1990 - acc: 0.5806 - val_loss: 1.1780 - val_acc: 0.5881\n",
            "Epoch 5/30\n",
            "200/200 [==============================] - 12s 62ms/step - loss: 1.1124 - acc: 0.6075 - val_loss: 1.1190 - val_acc: 0.6081\n",
            "Epoch 6/30\n",
            "200/200 [==============================] - 12s 61ms/step - loss: 1.0353 - acc: 0.6396 - val_loss: 1.0911 - val_acc: 0.6221\n",
            "Epoch 7/30\n",
            "200/200 [==============================] - 12s 62ms/step - loss: 0.9686 - acc: 0.6623 - val_loss: 1.0701 - val_acc: 0.6336\n",
            "Epoch 8/30\n",
            "200/200 [==============================] - 12s 62ms/step - loss: 0.9316 - acc: 0.6858 - val_loss: 1.0289 - val_acc: 0.6341\n",
            "Epoch 9/30\n",
            "200/200 [==============================] - 13s 63ms/step - loss: 0.8718 - acc: 0.7041 - val_loss: 0.9918 - val_acc: 0.6782\n",
            "Epoch 10/30\n",
            "200/200 [==============================] - 13s 63ms/step - loss: 0.8218 - acc: 0.7216 - val_loss: 0.9594 - val_acc: 0.6707\n",
            "Epoch 11/30\n",
            "200/200 [==============================] - 13s 63ms/step - loss: 0.7861 - acc: 0.7372 - val_loss: 0.9034 - val_acc: 0.6987\n",
            "Epoch 12/30\n",
            "200/200 [==============================] - 12s 62ms/step - loss: 0.7416 - acc: 0.7475 - val_loss: 0.9547 - val_acc: 0.6807\n",
            "Epoch 13/30\n",
            "200/200 [==============================] - 13s 63ms/step - loss: 0.7084 - acc: 0.7605 - val_loss: 0.9567 - val_acc: 0.7002\n",
            "Epoch 14/30\n",
            "200/200 [==============================] - 13s 63ms/step - loss: 0.6699 - acc: 0.7837 - val_loss: 0.8661 - val_acc: 0.7137\n",
            "Epoch 15/30\n",
            "200/200 [==============================] - 12s 62ms/step - loss: 0.6392 - acc: 0.7896 - val_loss: 0.9759 - val_acc: 0.6827\n",
            "Epoch 16/30\n",
            "200/200 [==============================] - 12s 62ms/step - loss: 0.6039 - acc: 0.7962 - val_loss: 0.9200 - val_acc: 0.7127\n",
            "Epoch 17/30\n",
            "200/200 [==============================] - 13s 63ms/step - loss: 0.5744 - acc: 0.8104 - val_loss: 0.8747 - val_acc: 0.7247\n",
            "Epoch 18/30\n",
            "200/200 [==============================] - 13s 63ms/step - loss: 0.5649 - acc: 0.8131 - val_loss: 0.8743 - val_acc: 0.7267\n",
            "Epoch 19/30\n",
            "200/200 [==============================] - 12s 62ms/step - loss: 0.5416 - acc: 0.8242 - val_loss: 0.8821 - val_acc: 0.7112\n",
            "Epoch 20/30\n",
            "200/200 [==============================] - 13s 63ms/step - loss: 0.5105 - acc: 0.8276 - val_loss: 0.8224 - val_acc: 0.7427\n",
            "Epoch 21/30\n",
            "200/200 [==============================] - 12s 62ms/step - loss: 0.4733 - acc: 0.8433 - val_loss: 0.8832 - val_acc: 0.7442\n",
            "Epoch 22/30\n",
            "200/200 [==============================] - 13s 63ms/step - loss: 0.4729 - acc: 0.8436 - val_loss: 0.8256 - val_acc: 0.7583\n",
            "Epoch 23/30\n",
            "200/200 [==============================] - 12s 62ms/step - loss: 0.4388 - acc: 0.8533 - val_loss: 0.9124 - val_acc: 0.7417\n",
            "Epoch 24/30\n",
            "200/200 [==============================] - 13s 63ms/step - loss: 0.4229 - acc: 0.8605 - val_loss: 0.8228 - val_acc: 0.7618\n",
            "Epoch 25/30\n",
            "200/200 [==============================] - 13s 63ms/step - loss: 0.4132 - acc: 0.8609 - val_loss: 0.9109 - val_acc: 0.7392\n",
            "Epoch 26/30\n",
            "200/200 [==============================] - 13s 63ms/step - loss: 0.4019 - acc: 0.8708 - val_loss: 0.9653 - val_acc: 0.7442\n",
            "Epoch 27/30\n",
            "200/200 [==============================] - 13s 63ms/step - loss: 0.3874 - acc: 0.8750 - val_loss: 0.8534 - val_acc: 0.7528\n",
            "Epoch 28/30\n",
            "200/200 [==============================] - 13s 63ms/step - loss: 0.3594 - acc: 0.8830 - val_loss: 0.8672 - val_acc: 0.7518\n",
            "Epoch 29/30\n",
            "200/200 [==============================] - 13s 63ms/step - loss: 0.3443 - acc: 0.8880 - val_loss: 0.9098 - val_acc: 0.7633\n",
            "Epoch 30/30\n",
            "200/200 [==============================] - 13s 63ms/step - loss: 0.3639 - acc: 0.8833 - val_loss: 0.8805 - val_acc: 0.7528\n"
          ]
        }
      ],
      "source": [
        "history = model.fit(X_train, y_train,\n",
        "                        validation_data=(X_val, y_val),\n",
        "                        epochs=30,\n",
        "                        batch_size=32 )"
      ]
    },
    {
      "cell_type": "markdown",
      "source": [
        "### Plotting the Accuracy Curves for LSTM"
      ],
      "metadata": {
        "id": "odhcsKr8MsHK"
      }
    },
    {
      "cell_type": "code",
      "execution_count": 63,
      "metadata": {
        "id": "cZThrfXJ7kwC",
        "colab": {
          "base_uri": "https://localhost:8080/",
          "height": 545
        },
        "outputId": "a0090591-b6bf-44b7-c552-74242d3ec896"
      },
      "outputs": [
        {
          "output_type": "display_data",
          "data": {
            "text/plain": [
              "<Figure size 432x288 with 1 Axes>"
            ],
            "image/png": "[encoded data removed]"
          },
          "metadata": {
            "needs_background": "light"
          }
        },
        {
          "output_type": "display_data",
          "data": {
            "text/plain": [
              "<Figure size 432x288 with 1 Axes>"
            ],
            "image/png": "[encoded data removed]"
          },
          "metadata": {
            "needs_background": "light"
          }
        }
      ],
      "source": [
        "plot_performance(history)"
      ]
    },
    {
      "cell_type": "markdown",
      "source": [
        "### Predictions on test data"
      ],
      "metadata": {
        "id": "IaoN9SsBNlhK"
      }
    },
    {
      "cell_type": "code",
      "execution_count": 64,
      "metadata": {
        "id": "ncdESTY26WbA",
        "colab": {
          "base_uri": "https://localhost:8080/"
        },
        "outputId": "9a5246c7-7b38-4614-c3e0-1b068ad88ccb"
      },
      "outputs": [
        {
          "output_type": "stream",
          "name": "stdout",
          "text": [
            "The model predicts: classical, and ground truth is: classical.\n",
            "\n"
          ]
        }
      ],
      "source": [
        "make_prediction(model, X_test, y_test, 24)"
      ]
    },
    {
      "cell_type": "markdown",
      "source": [
        "### Saving the Model for future use"
      ],
      "metadata": {
        "id": "3U3ToqCWNryJ"
      }
    },
    {
      "cell_type": "code",
      "execution_count": 65,
      "metadata": {
        "colab": {
          "base_uri": "https://localhost:8080/"
        },
        "id": "neMD0uPN-v6f",
        "outputId": "a58eb967-ab7d-4bd1-e73a-c3bf95dfa828"
      },
      "outputs": [
        {
          "output_type": "stream",
          "name": "stdout",
          "text": [
            "Model Saved!\n",
            "Model: \"sequential_1\"\n",
            "_________________________________________________________________\n",
            " Layer (type)                Output Shape              Param #   \n",
            "=================================================================\n",
            " lstm_2 (LSTM)               (None, 125, 64)           19968     \n",
            "                                                                 \n",
            " lstm_3 (LSTM)               (None, 64)                33024     \n",
            "                                                                 \n",
            " dense_2 (Dense)             (None, 64)                4160      \n",
            "                                                                 \n",
            " dropout_1 (Dropout)         (None, 64)                0         \n",
            "                                                                 \n",
            " dense_3 (Dense)             (None, 10)                650       \n",
            "                                                                 \n",
            "=================================================================\n",
            "Total params: 57,802\n",
            "Trainable params: 57,802\n",
            "Non-trainable params: 0\n",
            "_________________________________________________________________\n"
          ]
        }
      ],
      "source": [
        "# save model\n",
        "model.save('genreModelMfccLSTM.h5')\n",
        "print('Model Saved!')\n",
        "\n",
        "# load model\n",
        "savedModel=load_model('genreModelMfccLSTM.h5')\n",
        "savedModel.summary()"
      ]
    },
    {
      "cell_type": "markdown",
      "source": [
        "### Checking predictions on the saved model"
      ],
      "metadata": {
        "id": "3DF5JgnVNunz"
      }
    },
    {
      "cell_type": "code",
      "execution_count": 66,
      "metadata": {
        "colab": {
          "base_uri": "https://localhost:8080/"
        },
        "id": "K8R7KJ8-8T3D",
        "outputId": "c17ee723-91f7-4924-ea52-5ebb34cb74a2"
      },
      "outputs": [
        {
          "output_type": "stream",
          "name": "stdout",
          "text": [
            "The model predicts: reggae, and ground truth is: reggae.\n",
            "\n"
          ]
        }
      ],
      "source": [
        "make_prediction(savedModel, X_test, y_test, 105)"
      ]
    },
    {
      "cell_type": "code",
      "execution_count": 67,
      "metadata": {
        "colab": {
          "base_uri": "https://localhost:8080/"
        },
        "id": "AKsWXnXs_KbS",
        "outputId": "505985c6-61dd-46c2-ee45-a329419de083"
      },
      "outputs": [
        {
          "output_type": "stream",
          "name": "stdout",
          "text": [
            "The model predicts: metal, and ground truth is: hiphop.\n",
            "\n"
          ]
        }
      ],
      "source": [
        "make_prediction(savedModel, X_test, y_test, 100)"
      ]
    },
    {
      "cell_type": "markdown",
      "source": [
        "### Conclusion\n",
        "\n",
        "There are mainly two types of genre in the dataset: strong and mild classes. The strong class have high amplitude which includes hip-hop, pop, reggae, metal and rock. And on the other hand the mild class have low amplitude which includes disco, blues, country, jazz and classical. Due to this, the classification of music into genres is not an easy task. However, LSTM performs quite well on classification.\n",
        "\n",
        "On the training dataset, the model achieved an accuracy of 88.33% on the training data, it had an accuracy of 88.05% at the end of 30 epochs for test data. This model outperforms CNN for MFCC features."
      ],
      "metadata": {
        "id": "Jek4uk5jNz_D"
      }
    }
  ],
  "metadata": {
    "accelerator": "GPU",
    "colab": {
      "name": "LSTMMusicGenreClassificationUsingMFCC.ipynb",
      "provenance": [],
      "include_colab_link": true
    },
    "kernelspec": {
      "display_name": "Python 3",
      "language": "python",
      "name": "python3"
    },
    "language_info": {
      "codemirror_mode": {
        "name": "ipython",
        "version": 3
      },
      "file_extension": ".py",
      "mimetype": "text/x-python",
      "name": "python",
      "nbconvert_exporter": "python",
      "pygments_lexer": "ipython3",
      "version": "3.8.5"
    }
  },
  "nbformat": 4,
  "nbformat_minor": 0
}