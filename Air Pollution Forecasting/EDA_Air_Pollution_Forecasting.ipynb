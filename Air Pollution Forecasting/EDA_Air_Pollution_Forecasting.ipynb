{
 "cells": [
  {
   "cell_type": "markdown",
   "id": "afcb2249-7844-47db-af3e-4ab38bdffc53",
   "metadata": {},
   "source": [
    "# Air Pollution Forecasting - Part 1\n",
    "### EDA and Feature Engineering\n",
    "\n",
    "## Why Forecast? \n",
    "Air pollution has long been held as one of the foremost threats to human health, especially in metropolitan areas throughout the world. Exposure to air pollution can lead to may lead to diseases such as asthma, lung cancer, or cardiovascular diseases and can prove to be fatal, not only by diseases but also by issues like low visibilty. Forecasting air pollution can thus help us take appropriate measures to tackle this issue.\n",
    "\n",
    "## Why PM2.5?\n",
    "The pollutant that affects people the most is particulate matter, usually abbreviated as PM and used as a measure of air pollution. Although particles with a diameter of 10 microns or less (≤PM10) can penetrate and embed deep in the lungs, the ones that are more harmful to health are those with a diameter of 2.5 microns or less (≤PM2.5). Sources of PM2.5 can be coal-fired power generation, smoke, or dusts. \n",
    "\n",
    "## About the Project\n",
    "The Air Quality dataset for Bejing has been provided. This is a dataset that reports on the weather and the level of pollution each hour for five years at the US embassy in Bejing, China. This project focuses on multivariate analysis of data to forecast pollution levels for the next 24 hours.\n",
    "\n",
    "The data for this project can be downloaded from **[kaggle](https://www.kaggle.com/datasets/rupakroy/lstm-datasets-multivariate-univariate)** and stored as a csv file in a 'data' folder.\n",
    "\n",
    "According to **[IQAir](https://www.iqair.com/china/beijing)**, PM2.5 concentration in Bejing is currently **6.6 times the WHO annual air quality guideline value.** There are various AQI scales, but since the data is obtained from China, this project will refer to the local scale as shown in the image below. \n",
    "\n",
    "![PM2.5 levels Table](https://www.researchgate.net/profile/Chengcai-Li/publication/304400164/figure/tbl1/AS:668877105156097@1536484137117/AQI-and-air-pollution-levels-with-corresponding-PM-25-concentrations-Ministry-of.png \"PM2.5 Levels\")"
   ]
  },
  {
   "cell_type": "markdown",
   "id": "6ec30c1a-7551-4269-ab0e-1a824a764c03",
   "metadata": {},
   "source": [
    "## Importing the necessary Libraries"
   ]
  },
  {
   "cell_type": "code",
   "execution_count": null,
   "id": "907f5764-af3c-4640-9252-d75ccae841c5",
   "metadata": {},
   "outputs": [],
   "source": [
    "# Importing the required libraries\n",
    "\n",
    "# Libraries for reading the data and preprocessing\n",
    "import pandas as pd\n",
    "import numpy as np\n",
    "import matplotlib.pyplot as plt\n",
    "import seaborn as sns\n",
    "import plotly\n",
    "import plotly.express as px\n",
    "import plotly.graph_objects as go\n",
    "from plotly.subplots import make_subplots\n",
    "from pandas import DataFrame\n",
    "from pandas import concat\n",
    "from matplotlib import pyplot\n",
    "from pandas.plotting import scatter_matrix\n",
    "from pandas.plotting import lag_plot\n",
    "\n",
    "# Libraires for time series preprocessing\n",
    "from statsmodels.tsa.seasonal import seasonal_decompose\n",
    "from statsmodels.tsa.stattools import acf, pacf\n",
    "from statsmodels.graphics.tsaplots import plot_acf, plot_pacf\n",
    "from statsmodels.tsa.stattools import adfuller\n",
    "\n",
    "import warnings\n",
    "warnings.filterwarnings(\"ignore\")\n",
    "import calendar\n",
    "\n",
    "#Pep8\n",
    "import jupyter_black\n",
    "jupyter_black.load()"
   ]
  },
  {
   "cell_type": "markdown",
   "id": "7db9838c-cca0-4790-98db-a185663e0df2",
   "metadata": {},
   "source": [
    "## Reading The Data"
   ]
  },
  {
   "cell_type": "markdown",
   "id": "9373e8c1-d4a1-42d4-9d13-02ba0fb1dfe1",
   "metadata": {},
   "source": [
    "The data includes the date-time, the pollution called PM2.5 concentration, and the weather information.\n",
    "It is curated and stored originally in **[UCI ML Repository.](https://archive.ics.uci.edu/ml/datasets/Beijing+PM2.5+Data)**\n",
    "The complete feature list in the raw data is as follows:\n",
    "\n",
    "| Feature Name | Description |\n",
    "| --- | --- |\n",
    "| date | Date when the observation was captured |\n",
    "| pollution | PM2.5 concentration (ug/m^3) |\n",
    "| dew | Dew Point |\n",
    "| temp | Temperature |\n",
    "| press | Pressure (hPa) |\n",
    "| wnd_dir |  Combined wind direction  |\n",
    "| wnd_spd | Cumulated wind speed in m/s |\n",
    "| snow | Cumulated hours of snow |\n",
    "| rain | Cumulated hours of rain |"
   ]
  },
  {
   "cell_type": "code",
   "execution_count": null,
   "id": "39771fe7-0144-4b3d-99ab-454e6a85fb8a",
   "metadata": {},
   "outputs": [],
   "source": [
    "air_quality_data = pd.read_csv(\"data/LSTM-Multivariate_pollution.csv\")\n",
    "air_quality_data.head(3)"
   ]
  },
  {
   "cell_type": "code",
   "execution_count": null,
   "id": "99e13925-e8cb-46e2-85ad-4827ab831556",
   "metadata": {},
   "outputs": [],
   "source": [
    "# Checking if date is the primary key of this table\n",
    "len(air_quality_data[\"date\"].unique())"
   ]
  },
  {
   "cell_type": "code",
   "execution_count": null,
   "id": "d41314e4-757e-45d8-9cfd-2ebc850d171d",
   "metadata": {},
   "outputs": [],
   "source": [
    "air_quality_data.dtypes"
   ]
  },
  {
   "cell_type": "code",
   "execution_count": null,
   "id": "5995d112-e090-45dc-922f-69d8b2a63da8",
   "metadata": {},
   "outputs": [],
   "source": [
    "air_quality_data[\"wnd_dir\"].unique()"
   ]
  },
  {
   "cell_type": "markdown",
   "id": "324790f5-db4e-4127-a958-df0eb8d7481e",
   "metadata": {},
   "source": [
    "### Observations and Insights:   \n",
    "- There are 43,800 rows and 9 columns\n",
    "- Most of the columns are of numeric datatype. The columns `date` and `wnd_dir` are of the type 'object'. \n",
    "- The `date` column can be should be converted to appropriate datatype.\n",
    "- The 4 unique values of `wnd_dir` can be cleaned and one-hot encoded for future use, if needed.\n",
    "- The feature `pollution` is the target variable\n",
    "- We can see that each of these observations is uniquely indexed by a corresponding 'date' value"
   ]
  },
  {
   "cell_type": "markdown",
   "id": "f1e4bc45-d438-44ef-803a-3d6c8f4ea26b",
   "metadata": {},
   "source": [
    "## Exploratory Data Analysis\n",
    "\n",
    "Some questions explored through EDA are:\n",
    "- Frequency of the data\n",
    "- PM2.5 concentration through different years \n",
    "- PM2.5 concentration othrough different months\n",
    "- PM2.5 concentration through differnent hours\n",
    "- Is there any pattern/trend?\n",
    "- Does the data have seasonality?"
   ]
  },
  {
   "cell_type": "markdown",
   "id": "c15611ae-8f77-4c22-b5d5-212324d45c6b",
   "metadata": {},
   "source": [
    "### 1. Changing datatype of Date Column and setting it as index"
   ]
  },
  {
   "cell_type": "code",
   "execution_count": null,
   "id": "19c70d07-b612-4444-96ac-c73d8de7af14",
   "metadata": {},
   "outputs": [],
   "source": [
    "air_quality_data[\"date\"] = pd.to_datetime(\n",
    "    air_quality_data.date, infer_datetime_format=\"True\"\n",
    ")\n",
    "air_quality_data.dtypes"
   ]
  },
  {
   "cell_type": "code",
   "execution_count": null,
   "id": "a18712fc-9473-46ab-8ce3-f0c64f8e6736",
   "metadata": {},
   "outputs": [],
   "source": [
    "air_quality_data.set_index(\"date\", inplace=True)\n",
    "air_quality_data.head(2)"
   ]
  },
  {
   "cell_type": "markdown",
   "id": "413713bf-089c-4851-a374-939b3633cd93",
   "metadata": {},
   "source": [
    "### 2. Cheking Missing data\n",
    "\n",
    "There are no missing values."
   ]
  },
  {
   "cell_type": "code",
   "execution_count": null,
   "id": "cfdd95ea-384a-4665-a66f-31dd063ccbab",
   "metadata": {},
   "outputs": [],
   "source": [
    "air_quality_data.isna().sum()"
   ]
  },
  {
   "cell_type": "markdown",
   "id": "afe9f218-3a9c-44b1-9b72-523ee71c6091",
   "metadata": {},
   "source": [
    "### 3. Summary Statistics\n",
    "- The data provided seems correct when checked with the actual recorded [data](https://weatherspark.com/y/131055/Average-Weather-in-Beijing-China-Year-Round) of Bejing. \n",
    "- The values of snow and rain being more than 24hrs is justified as they are cumulative values\n",
    "- The maximum pollution level is 994. On checking further, we see that this record is found in Jan 2012. It seems like an error but it is not and hence we won't be dropping it. [Refered here](https://qz.com/61694/chinas-nightmare-scenario-by-2025-air-quality-could-be-much-much-worse/) for checking.\n",
    "- On an average, the pollution level is Bejing is 94."
   ]
  },
  {
   "cell_type": "code",
   "execution_count": null,
   "id": "99b57bcc-f2f3-41fd-ad04-b4d81511baa8",
   "metadata": {},
   "outputs": [],
   "source": [
    "air_quality_data.describe()"
   ]
  },
  {
   "cell_type": "code",
   "execution_count": null,
   "id": "cbd7738b-b668-475a-a972-94147bff0e59",
   "metadata": {},
   "outputs": [],
   "source": [
    "air_quality_data[air_quality_data[\"pollution\"] >= 900]"
   ]
  },
  {
   "cell_type": "markdown",
   "id": "2d19f05a-a8d4-4428-95b7-aa24db7e0974",
   "metadata": {},
   "source": [
    "### 4. Data Distribution\n",
    "The features do not follow a normal distribution and normalization might be needed going further depending on the choice of algorithms."
   ]
  },
  {
   "cell_type": "code",
   "execution_count": null,
   "id": "edc8cf4b-ac00-4c58-b729-0380272eeed5",
   "metadata": {},
   "outputs": [],
   "source": [
    "plt.figure(figsize=(10, 5))\n",
    "numeric_df = air_quality_data[\n",
    "    [\"pollution\", \"dew\", \"temp\", \"wnd_spd\", \"snow\", \"rain\", \"press\"]\n",
    "]\n",
    "for i, col in enumerate(list(numeric_df.columns.values)):\n",
    "    plt.subplot(4, 2, i + 1)\n",
    "    p = sns.distplot(numeric_df[col], color=\"r\", kde=True, label=\"Values\")\n",
    "    plt.grid()\n",
    "    plt.legend(loc=\"upper right\")\n",
    "    p.set(yticklabels=[])\n",
    "    p.set(ylabel=None)\n",
    "    plt.tight_layout()"
   ]
  },
  {
   "cell_type": "markdown",
   "id": "45d4d34f-f8c1-4130-bc25-2261b2cb506f",
   "metadata": {},
   "source": [
    "### 5. Visualizing the target variable"
   ]
  },
  {
   "cell_type": "code",
   "execution_count": null,
   "id": "1d99b151-461e-4638-a315-c87c89a6c6bf",
   "metadata": {},
   "outputs": [],
   "source": [
    "fig = plt.figure(figsize=(20, 7))\n",
    "\n",
    "df = air_quality_data.reset_index()\n",
    "fig = px.line(df, x=\"date\", y=\"pollution\")\n",
    "\n",
    "fig.update_xaxes(\n",
    "    rangeslider_visible=True,\n",
    "    title_text=\"Date\",\n",
    "    rangeselector=dict(\n",
    "        buttons=list(\n",
    "            [\n",
    "                dict(count=1, label=\"1y\", step=\"year\", stepmode=\"backward\"),\n",
    "                dict(count=2, label=\"2y\", step=\"year\", stepmode=\"backward\"),\n",
    "                dict(count=3, label=\"3y\", step=\"year\", stepmode=\"backward\"),\n",
    "                dict(count=4, label=\"4y\", step=\"year\", stepmode=\"backward\"),\n",
    "                dict(step=\"all\"),\n",
    "            ]\n",
    "        )\n",
    "    ),\n",
    ")\n",
    "fig.update_yaxes(title_text=\"Pollution concentration (PM 2.5)\")\n",
    "fig.update_layout(\n",
    "    title_text=\"Interactive chart of Air Pollution levels across years\", title_x=0.5\n",
    ")\n",
    "fig.show()"
   ]
  },
  {
   "cell_type": "markdown",
   "id": "a18f7b26-9ed4-4111-91a5-9fba207a6995",
   "metadata": {},
   "source": [
    "#### 5.1 Creating month, day, year and hour columns for checking pollution levels at different granularities"
   ]
  },
  {
   "cell_type": "code",
   "execution_count": null,
   "id": "3e75f28b-567f-4397-9793-3400178b6611",
   "metadata": {},
   "outputs": [],
   "source": [
    "air_quality_data[\"day\"] = air_quality_data.index.map(lambda x: x.day)\n",
    "air_quality_data[\"month\"] = air_quality_data.index.map(lambda x: x.month)\n",
    "air_quality_data[\"year\"] = air_quality_data.index.map(lambda x: x.year)\n",
    "air_quality_data[\"hour\"] = air_quality_data.index.map(lambda x: x.hour)\n",
    "\n",
    "\n",
    "air_quality_data.head(2)"
   ]
  },
  {
   "cell_type": "markdown",
   "id": "3bcbe9c7-902e-43fd-8764-b792a2d83b09",
   "metadata": {},
   "source": [
    "#### 5.2 Deep-diving into the pollution chart per year, month and day - Interactive Vizualization"
   ]
  },
  {
   "cell_type": "code",
   "execution_count": null,
   "id": "2ef902e0-0779-4f5f-a220-5f34b4b7c798",
   "metadata": {
    "tags": []
   },
   "outputs": [],
   "source": [
    "df_2010 = air_quality_data[air_quality_data.year == 2010]\n",
    "df_2011 = air_quality_data[air_quality_data.year == 2011]\n",
    "df_2012 = air_quality_data[air_quality_data.year == 2012]\n",
    "df_2013 = air_quality_data[air_quality_data.year == 2013]\n",
    "df_2014 = air_quality_data[air_quality_data.year == 2014]\n",
    "\n",
    "fig = make_subplots(rows=5, cols=1)\n",
    "fig.add_trace(\n",
    "    go.Scatter(\n",
    "        x=df_2010.reset_index()[\"date\"],\n",
    "        y=df.reset_index()[\"pollution\"],\n",
    "        name=\"pollution in 2010\",\n",
    "    ),\n",
    "    row=1,\n",
    "    col=1,\n",
    ")\n",
    "fig.add_trace(\n",
    "    go.Scatter(\n",
    "        x=df_2011.reset_index()[\"date\"],\n",
    "        y=df.reset_index()[\"pollution\"],\n",
    "        name=\"pollution in 2011\",\n",
    "    ),\n",
    "    row=2,\n",
    "    col=1,\n",
    ")\n",
    "fig.add_trace(\n",
    "    go.Scatter(\n",
    "        x=df_2012.reset_index()[\"date\"],\n",
    "        y=df.reset_index()[\"pollution\"],\n",
    "        name=\"pollution in 2012\",\n",
    "    ),\n",
    "    row=3,\n",
    "    col=1,\n",
    ")\n",
    "fig.add_trace(\n",
    "    go.Scatter(\n",
    "        x=df_2013.reset_index()[\"date\"],\n",
    "        y=df.reset_index()[\"pollution\"],\n",
    "        name=\"pollution in 2013\",\n",
    "    ),\n",
    "    row=4,\n",
    "    col=1,\n",
    ")\n",
    "fig.add_trace(\n",
    "    go.Scatter(\n",
    "        x=df_2014.reset_index()[\"date\"],\n",
    "        y=df.reset_index()[\"pollution\"],\n",
    "        name=\"pollution in 2014\",\n",
    "    ),\n",
    "    row=5,\n",
    "    col=1,\n",
    ")\n",
    "fig.update_layout(\n",
    "    height=600, width=800, title_text=\"Pollution Level Each Year\", title_x=0.5\n",
    ")\n",
    "fig.show()"
   ]
  },
  {
   "cell_type": "markdown",
   "id": "fa2daabc-045f-4536-b966-4814fb8fdd77",
   "metadata": {},
   "source": [
    "- We can see that pollution levels across years follow the same pattern with spikes in the month of february, march, october, november and december\n",
    "- The date on which the major spike occurs is 14th Feb for the year 2010, and 13th feb for other years"
   ]
  },
  {
   "cell_type": "markdown",
   "id": "cc21196f-6e89-41b3-8f6f-95c3b35ca400",
   "metadata": {},
   "source": [
    "#### 5.3 Average pollution values at different granularities\n",
    "- The pollution levels were lowest in the year 2012 and highest in 2013, but do not vary by much.\n",
    "- End of october to early march denotes winter in Bejing. There is a increase in PM2.5 concentration during winter months compared to the summers because of heating used in many households.The lowest levels are in the months of April, May, August and September\n",
    "- The pollution concentration is highest on saturdays, but not by much. Day of week doesn't seem to affect pollution levels a lot\n",
    "- Interestingly, the pollution levels are high during the late evenings and nights as compared to the standard working hours. It can be attributed to trucks travelling during the nights or the atmospheric conditions."
   ]
  },
  {
   "cell_type": "code",
   "execution_count": null,
   "id": "ed05dd73-ff53-4ac1-9015-d300645e150e",
   "metadata": {
    "tags": []
   },
   "outputs": [],
   "source": [
    "plt.rc(\"figure\", figsize=(12, 8))\n",
    "fig, axes = plt.subplots(nrows=2, ncols=2)\n",
    "air_quality_data.groupby(by=\"year\").mean()[\"pollution\"].plot(kind=\"bar\", ax=axes[0, 0])\n",
    "axes[0, 0].set_ylabel(\"Mean PM 2.5 Concentration (μg/m3)\")\n",
    "axes[0, 0].set_title(\"Air Pollution by Year\")\n",
    "\n",
    "air_quality_data.groupby(by=\"month\").mean()[\"pollution\"].plot(kind=\"bar\", ax=axes[0, 1])\n",
    "axes[0, 1].set_xticklabels(calendar.month_name[1:13])\n",
    "axes[0, 1].set_ylabel(\"Mean PM 2.5 Concentration (μg/m3)\")\n",
    "axes[0, 1].set_title(\"Air Pollution by Month\")\n",
    "\n",
    "air_quality_data.groupby(by=\"hour\").mean()[\"pollution\"].plot(kind=\"bar\", ax=axes[1, 1])\n",
    "axes[1, 1].set_ylabel(\"Mean PM 2.5 Concentration (μg/m3)\")\n",
    "axes[1, 1].set_title(\"Air Pollution by hours\")\n",
    "\n",
    "air_quality_data_copy = air_quality_data\n",
    "air_quality_data_copy = air_quality_data_copy.reset_index()\n",
    "air_quality_data_copy[\"day_of_week\"] = air_quality_data_copy.date.dt.dayofweek\n",
    "air_quality_data_copy = air_quality_data_copy.set_index(\"date\")\n",
    "air_quality_data_copy.groupby(by=\"day_of_week\").mean()[\"pollution\"].plot(\n",
    "    kind=\"bar\", ax=axes[1, 0]\n",
    ")\n",
    "axes[1, 0].set_ylabel(\"Mean PM 2.5 Concentration (μg/m3)\")\n",
    "axes[1, 0].set_title(\"Air Pollution by days\")\n",
    "axes[1, 0].set_xticklabels(calendar.day_name[0:7])\n",
    "\n",
    "plt.tight_layout()\n",
    "plt.show()"
   ]
  },
  {
   "cell_type": "markdown",
   "id": "629aa969-c14d-438f-b364-589017b1d1e7",
   "metadata": {},
   "source": [
    "### 6. Analyzing percentage of days per each Air Classification Bracket, broken down by years\n",
    "\n",
    "- We can see that the least number of days with good air quality was in the year 2013.\n",
    "- The distribution of days is fairly similar through the years."
   ]
  },
  {
   "cell_type": "code",
   "execution_count": null,
   "id": "577e7d2e-e6ea-486b-967d-f91e2f791269",
   "metadata": {
    "tags": []
   },
   "outputs": [],
   "source": [
    "plt.rc(\"figure\", figsize=(10, 10))\n",
    "\n",
    "fig, ax = plt.subplot_mosaic(\"ABCDE\")\n",
    "\n",
    "years = [2010, 2011, 2012, 2013, 2014]\n",
    "plots = [\"A\", \"B\", \"C\", \"D\", \"E\"]\n",
    "\n",
    "x = 0\n",
    "\n",
    "for i in years:\n",
    "    Pie_y_temp = air_quality_data[air_quality_data.year == i]\n",
    "    Pie_y = Pie_y_temp.pollution.resample(\"D\").mean()\n",
    "\n",
    "    good = len([ii for ii in Pie_y.dropna() if ii <= 35])\n",
    "    moderately = len([ii for ii in Pie_y.dropna() if ii > 35 and ii <= 75])\n",
    "    lightly = len([ii for ii in Pie_y.dropna() if ii > 75 and ii <= 115])\n",
    "    medically = len([ii for ii in Pie_y.dropna() if ii > 115 and ii <= 150])\n",
    "    heavily = len([ii for ii in Pie_y.dropna() if ii > 150 and ii <= 250])\n",
    "    severely = len([ii for ii in Pie_y.dropna() if ii > 350])\n",
    "\n",
    "    sizes = [good, lightly, moderately, medically, heavily, severely]\n",
    "    labels = [\n",
    "        \"Good\",\n",
    "        \"Moderately polluted\",\n",
    "        \"Lightly Polluted\",\n",
    "        \"Medically Polluted\",\n",
    "        \"Heavily Polluted\",\n",
    "        \"Severely Polluted\",\n",
    "    ]\n",
    "\n",
    "    colours = {\n",
    "        \"Good\": \"green\",\n",
    "        \"Moderately polluted\": \"yellow\",\n",
    "        \"Lightly Polluted\": \"orange\",\n",
    "        \"Medically Polluted\": \"red\",\n",
    "        \"Heavily Polluted\": \"purple\",\n",
    "        \"Severely Polluted\": \"brown\",\n",
    "    }\n",
    "\n",
    "    plot = plots[x]\n",
    "    x = x + 1\n",
    "\n",
    "    ax[plot].pie(sizes, autopct=\"%1.1f%%\", colors=[colours[key] for key in labels])\n",
    "    ax[plot].set_title(\"Year \" + str(i))\n",
    "fig.tight_layout()\n",
    "plt.subplots_adjust(wspace=0, hspace=0)\n",
    "fig.legend(\n",
    "    labels,\n",
    "    frameon=False,\n",
    "    loc=\"center left\",\n",
    "    bbox_to_anchor=(1, 0.5),\n",
    "    labelspacing=0,\n",
    "    handletextpad=0.1,\n",
    "    fontsize=12,\n",
    ")\n",
    "fig.show()"
   ]
  },
  {
   "cell_type": "markdown",
   "id": "1e66db90-d2dd-440f-b4c8-ef7f3fa7b6d5",
   "metadata": {},
   "source": [
    "### 7. Visualizing Other Variables along with the target variable to identify any patterns"
   ]
  },
  {
   "cell_type": "code",
   "execution_count": null,
   "id": "adf44861-8e78-49a8-b754-1b8c84e5b3b1",
   "metadata": {
    "tags": []
   },
   "outputs": [],
   "source": [
    "fig = make_subplots(rows=6, cols=1)\n",
    "df = air_quality_data\n",
    "fig.add_trace(\n",
    "    go.Scatter(\n",
    "        x=df.reset_index()[\"date\"], y=df.reset_index()[\"pollution\"], name=\"pollution\"\n",
    "    ),\n",
    "    row=1,\n",
    "    col=1,\n",
    ")\n",
    "fig.add_trace(\n",
    "    go.Scatter(\n",
    "        x=df.reset_index()[\"date\"], y=df.reset_index()[\"press\"], name=\"Pressure\"\n",
    "    ),\n",
    "    row=2,\n",
    "    col=1,\n",
    ")\n",
    "fig.add_trace(\n",
    "    go.Scatter(\n",
    "        x=df.reset_index()[\"date\"], y=df.reset_index()[\"wnd_spd\"], name=\"wind_speed\"\n",
    "    ),\n",
    "    row=3,\n",
    "    col=1,\n",
    ")\n",
    "fig.add_trace(\n",
    "    go.Scatter(\n",
    "        x=df.reset_index()[\"date\"], y=df.reset_index()[\"temp\"], name=\"temperature\"\n",
    "    ),\n",
    "    row=4,\n",
    "    col=1,\n",
    ")\n",
    "\n",
    "fig.add_trace(\n",
    "    go.Scatter(x=df.reset_index()[\"date\"], y=df.reset_index()[\"rain\"], name=\"Rain\"),\n",
    "    row=5,\n",
    "    col=1,\n",
    ")\n",
    "\n",
    "fig.add_trace(\n",
    "    go.Scatter(x=df.reset_index()[\"date\"], y=df.reset_index()[\"snow\"], name=\"Snow\"),\n",
    "    row=6,\n",
    "    col=1,\n",
    ")\n",
    "fig.update_layout(\n",
    "    height=600,\n",
    "    width=800,\n",
    "    title_text=\"Relationship between pollution and weather across years\",\n",
    "    title_x=0.5,\n",
    ")\n",
    "fig.show()"
   ]
  },
  {
   "cell_type": "markdown",
   "id": "c20c8090-1e52-4f44-ab6b-54c94e22df8a",
   "metadata": {},
   "source": [
    "### 8. Correlation Plot to check for any strong relationships\n",
    "\n",
    "- None of the variables are highly correlated to the target variables when considered individually\n",
    "- We can however see a strong correlation between dew, pressure and temperature"
   ]
  },
  {
   "cell_type": "code",
   "execution_count": null,
   "id": "7ad03835-2f91-4efd-a184-a1ee619297b5",
   "metadata": {},
   "outputs": [],
   "source": [
    "plt.figure(figsize=(12, 8))\n",
    "sns.heatmap(numeric_df.corr(), annot=True, cmap=\"RdBu_r\")"
   ]
  },
  {
   "cell_type": "markdown",
   "id": "91b10c7c-1a12-4671-ad39-8fa7d4c7b127",
   "metadata": {},
   "source": [
    "### 9. Decomposing the Target Time Series \n",
    "\n",
    "This allows us to check for trend, seasonality and residuals. "
   ]
  },
  {
   "cell_type": "code",
   "execution_count": null,
   "id": "a28bdc29-262f-4ccb-8b77-f2d41b9de311",
   "metadata": {},
   "outputs": [],
   "source": [
    "# Extracting Monthly trend\n",
    "plt.rc(\"figure\", figsize=(10, 10))\n",
    "result = seasonal_decompose(air_quality_data.pollution, model=\"additive\", period=730)\n",
    "result.plot();"
   ]
  },
  {
   "cell_type": "markdown",
   "id": "13673c85-baa4-4609-aa7e-4382f99d2e72",
   "metadata": {},
   "source": [
    "### 10. Plotting Moving Averages to check trend at various levels\n",
    "\n",
    "This is a raw approach to get the trend without using the `seasonal_decompose()` funtion. "
   ]
  },
  {
   "cell_type": "code",
   "execution_count": null,
   "id": "d39a5b1e-36cc-40e7-b2b9-98559638ff41",
   "metadata": {},
   "outputs": [],
   "source": [
    "mvg_avg = air_quality_data.copy()\n",
    "mvg_avg[\"yearly_pollution\"] = air_quality_data[\"pollution\"].rolling(8760).mean()\n",
    "mvg_avg[\"monthly_pollution\"] = air_quality_data[\"pollution\"].rolling(730).mean()\n",
    "mvg_avg[\"weekly_pollution\"] = air_quality_data[\"pollution\"].rolling(168).mean()"
   ]
  },
  {
   "cell_type": "code",
   "execution_count": null,
   "id": "93522160-80b3-4cc7-a1a4-0d055116beac",
   "metadata": {},
   "outputs": [],
   "source": [
    "plt.rc(\"figure\", figsize=(10, 10))\n",
    "fig, ax = plt.subplot_mosaic(\"AB;CC\")\n",
    "\n",
    "ax[\"A\"].plot(air_quality_data[\"pollution\"], label=\"Pollution TS\")\n",
    "ax[\"A\"].plot(mvg_avg[\"yearly_pollution\"], label=\"Yearly Moving Average\")\n",
    "ax[\"A\"].legend(loc=\"upper right\")\n",
    "\n",
    "ax[\"B\"].plot(air_quality_data[\"pollution\"], label=\"Pollution TS\")\n",
    "ax[\"B\"].plot(mvg_avg[\"monthly_pollution\"], label=\"Monthly Moving Average\")\n",
    "ax[\"B\"].legend(loc=\"upper right\")\n",
    "\n",
    "ax[\"C\"].plot(air_quality_data[\"pollution\"], label=\"Pollution TS\")\n",
    "ax[\"C\"].plot(mvg_avg[\"weekly_pollution\"], label=\"Weekly Moving Average\")\n",
    "ax[\"C\"].legend(loc=\"upper right\")\n",
    "\n",
    "plt.show()"
   ]
  },
  {
   "cell_type": "markdown",
   "id": "c5e12013-1332-4e37-a3eb-d0cfff6293d9",
   "metadata": {},
   "source": [
    "#### Observations and Insights:   \n",
    "- The data is quite clean with no missing values\n",
    "- The features are not normally distributed\n",
    "- When considered independently, no variables strongly correlate with the target variable and that can be seen from the correlation matrix and the graph showing relationship between weather and pollution\n",
    "- There is a very similar pattern followed through the years by the target variable\n",
    "- There is some seasonality in the data as per graphs\n",
    "- Some features can be created to make more sense out of the data"
   ]
  },
  {
   "cell_type": "markdown",
   "id": "c72ce8b1-da62-4b5f-9fa7-ee9658844721",
   "metadata": {},
   "source": [
    "## Feature Engineering"
   ]
  },
  {
   "cell_type": "markdown",
   "id": "fd681bdb-3832-4bb2-9110-7be429902d14",
   "metadata": {},
   "source": [
    "#### One-Hot Encoding the wind direction variable"
   ]
  },
  {
   "cell_type": "code",
   "execution_count": null,
   "id": "6e204663-6f52-4fc2-b8c9-70e135f6e88e",
   "metadata": {
    "tags": []
   },
   "outputs": [],
   "source": [
    "air_quality_data.columns"
   ]
  },
  {
   "cell_type": "code",
   "execution_count": null,
   "id": "55ff38ef-626f-415f-bb5f-953dc1fa895a",
   "metadata": {},
   "outputs": [],
   "source": [
    "air_quality_data = pd.concat(\n",
    "    [air_quality_data, pd.get_dummies(air_quality_data[\"wnd_dir\"], prefix=\"wnd_dir\")],\n",
    "    axis=1,\n",
    ")\n",
    "air_quality_data.drop([\"wnd_dir\"], axis=1, inplace=True)\n",
    "air_quality_data.head()"
   ]
  },
  {
   "cell_type": "markdown",
   "id": "a25d9131-04b6-473a-9d39-4884e5cc5eec",
   "metadata": {},
   "source": [
    "#### Checking the Correlation of the target with itself to identify relevant lags\n",
    "- The PACF plot shows that no lags apart from the first lag have direct effect on the currect value. \n",
    "- We will thus be considering the first lag while creating new feature."
   ]
  },
  {
   "cell_type": "code",
   "execution_count": null,
   "id": "1c0ed9d8-4455-4ef3-9cec-b3352c3707e0",
   "metadata": {},
   "outputs": [],
   "source": [
    "plt.rc(\"figure\", figsize=(5, 3))\n",
    "plot_pacf(air_quality_data[\"pollution\"], lags=30, method=\"ols\")\n",
    "plt.tight_layout()\n",
    "plt.show()"
   ]
  },
  {
   "cell_type": "markdown",
   "id": "9033ca86-1fb8-4adc-8cf7-b0057883ac52",
   "metadata": {},
   "source": [
    "#### Create Lag for pollution"
   ]
  },
  {
   "cell_type": "code",
   "execution_count": null,
   "id": "17ae66f1-00a7-4df9-8da0-c38965ea64fb",
   "metadata": {},
   "outputs": [],
   "source": [
    "# Shift the pollution to create the output variable\n",
    "air_quality_data[\"Lag1_pollution\"] = air_quality_data[\"pollution\"].shift(1)\n",
    "\n",
    "# Drop the last row (it has no value for predicted pollution)\n",
    "air_quality_data = air_quality_data.drop(air_quality_data.head(1).index)\n",
    "\n",
    "air_quality_data.head(3)"
   ]
  },
  {
   "cell_type": "markdown",
   "id": "9576d741-7491-4d72-aec8-918dd7f63287",
   "metadata": {},
   "source": [
    "#### Calculating daily averages for target variable and creating its lag\n",
    "\n",
    "We can see that only 1 lag of `Daily_Avg_Pollution` is significant and hence I am creating a new feature with one shift."
   ]
  },
  {
   "cell_type": "code",
   "execution_count": null,
   "id": "f0e3503a-305b-4ca0-9a87-496ee52c055e",
   "metadata": {},
   "outputs": [],
   "source": [
    "air_quality_data[\"Daily_Avg_Pollution\"] = air_quality_data.groupby(\n",
    "    [\"day\", \"month\", \"year\"]\n",
    ")[\"pollution\"].transform(\"mean\")"
   ]
  },
  {
   "cell_type": "code",
   "execution_count": null,
   "id": "163c3d3d-756a-4529-a909-bcc64359634e",
   "metadata": {},
   "outputs": [],
   "source": [
    "plt.rc(\"figure\", figsize=(5, 3))\n",
    "plot_pacf(air_quality_data[\"Daily_Avg_Pollution\"], lags=20, method=\"ols\");"
   ]
  },
  {
   "cell_type": "code",
   "execution_count": null,
   "id": "2be2010c-b116-42b4-a090-5023dcbeb3bc",
   "metadata": {},
   "outputs": [],
   "source": [
    "air_quality_data[\"Lag1_daily_avg_pollution\"] = air_quality_data[\n",
    "    \"Daily_Avg_Pollution\"\n",
    "].shift(1)\n",
    "\n",
    "# Drop the first row (it has no value for predicted pollution)\n",
    "air_quality_data = air_quality_data.drop(air_quality_data.head(1).index)\n",
    "air_quality_data.columns"
   ]
  },
  {
   "cell_type": "markdown",
   "id": "16f4eac6-eb23-4017-a9de-12855a09fd01",
   "metadata": {},
   "source": [
    "#### Create additional temporal features\n",
    "I have already created hour, month, year and day features. The code below shows creation of `quarter`"
   ]
  },
  {
   "cell_type": "code",
   "execution_count": null,
   "id": "d927a74a-4700-475f-92f6-384f316ce02e",
   "metadata": {},
   "outputs": [],
   "source": [
    "air_quality_data = air_quality_data.reset_index()\n",
    "air_quality_data[\"quarter\"] = air_quality_data[\"date\"].dt.quarter\n",
    "air_quality_data.columns"
   ]
  },
  {
   "cell_type": "markdown",
   "id": "2fecd39c-b3b0-4a23-9ef9-b945bd636d65",
   "metadata": {},
   "source": [
    "#### Saving the new file"
   ]
  },
  {
   "cell_type": "code",
   "execution_count": null,
   "id": "addb9d8e-fb1a-48bd-8c92-ff4dca759a1f",
   "metadata": {},
   "outputs": [],
   "source": [
    "air_quality_data.to_csv(\"data/air_quality_data.csv\", index=False)"
   ]
  }
 ],
 "metadata": {
  "kernelspec": {
   "display_name": "Python 3 (ipykernel)",
   "language": "python",
   "name": "python3"
  },
  "language_info": {
   "codemirror_mode": {
    "name": "ipython",
    "version": 3
   },
   "file_extension": ".py",
   "mimetype": "text/x-python",
   "name": "python",
   "nbconvert_exporter": "python",
   "pygments_lexer": "ipython3",
   "version": "3.9.12"
  }
 },
 "nbformat": 4,
 "nbformat_minor": 5
}
